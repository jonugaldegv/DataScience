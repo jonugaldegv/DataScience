{
 "cells": [
  {
   "cell_type": "markdown",
   "id": "7428abbf",
   "metadata": {},
   "source": [
    "# VIDEO 2: [Data analysis with python: Part 2 of 6](https://www.youtube.com/live/JOKJ6g3gUFE?feature=shared)"
   ]
  },
  {
   "cell_type": "markdown",
   "id": "f60c88de",
   "metadata": {},
   "source": [
    "## Data types in python"
   ]
  },
  {
   "cell_type": "markdown",
   "id": "b25d7172",
   "metadata": {},
   "source": [
    "### Theory"
   ]
  },
  {
   "cell_type": "code",
   "execution_count": 97,
   "id": "8ba0eb3c",
   "metadata": {},
   "outputs": [],
   "source": [
    "# today = 'Monday' \n",
    "\n",
    "# today.replace('Mon','Satur')\n",
    "# prefixes = 'Mon, Tues, Wednes, Thurs, Fri, Satur, Sun'.split(', ')\n",
    "# print(prefixes[3].capitalize() + 'day')\n",
    "\n",
    "#------- Strip ---------------------------------------------------------------------\n",
    "# long_line = '                     This is a long line with spaces before and after                     '\n",
    "# long_line.strip()       #.strip erases the excess of spaces\n",
    "#-----------------------------------------------------------------------------------\n",
    "\n",
    "#------- Format --------------------------------------------------------------------\n",
    "# output_template = 'If a grocery store sells ice bags at {} per bag, with a profit margin of {}, the total profit it makes by selling {} bags is {}'\n",
    "# cost_per_bag = 1.25 \n",
    "# profit_margin = 0.2\n",
    "# bags_sold = 500\n",
    "# total_profit = cost_per_bag * profit_margin * bags_sold\n",
    "# output_message = output_template.format(cost_per_bag, profit_margin*100, bags_sold, total_profit)\n",
    "# print(output_message)\n",
    "#-----------------------------------------------------------------------------------\n",
    "\n",
    "#------- Lists --------------------------------------------------------------------\n",
    "# fruits = ['Apple', 'Banana', 'Pear']\n",
    "# a_list = [2, None, 'hello', fruits, 3 <= 5, 3.14]\n",
    "# print(a_list)\n",
    "# print(len(a_list))\n",
    "# print(a_list[-5:-2])\n",
    "\n",
    "# empty_list = []\n",
    "\n",
    "# fruits.append('Blueberry')\n",
    "# print(fruits)\n",
    "# fruits.remove('Apple')\n",
    "# print(fruits)\n",
    "# fruits.pop(1)\n",
    "# print(fruits)\n",
    "\n",
    "# 'Pineapple' in fruits\n",
    "\n",
    "# more_fruits = fruits + ['Cherry', 'Pineapple']\n",
    "# print(more_fruits)\n",
    "#-----------------------------------------------------------------------------------\n",
    "\n",
    "#------- Tuple --------------------------------------------------------------------\n",
    "# fruit = ('apple', 'peach', 'banana')\n",
    "# # A list of elements that cannot be modified\n",
    "#-----------------------------------------------------------------------------------\n",
    "\n",
    "#------- Dictionary --------------------------------------------------------------------\n",
    "# person1 = {'name' : 'Jon',\n",
    "#            'sex' : 'male',\n",
    "#            'age' : 25}\n",
    "# person2 = dict(name='Joana', sex='female', age=32)\n",
    "# person2['name']\n",
    "# print(person1.get('address', 'Unknown'))    # If the characteristic asked is not defined, instead of error gives Unknown\n",
    "# person1['address'] = 'Calle Méndez Núñez'\n",
    "# person1.get('address', 'Unknown')\n",
    "#-----------------------------------------------------------------------------------"
   ]
  },
  {
   "cell_type": "markdown",
   "id": "142b013e",
   "metadata": {},
   "source": [
    "### Exercises"
   ]
  },
  {
   "cell_type": "code",
   "execution_count": null,
   "id": "d434875b",
   "metadata": {},
   "outputs": [
    {
     "data": {
      "text/plain": [
       "[-12, -9, 23, 45, 45, 56]"
      ]
     },
     "execution_count": 87,
     "metadata": {},
     "output_type": "execute_result"
    }
   ],
   "source": [
    "#--------------- LIST EXERCISE ---------------#\n",
    "\n",
    "# 1). Reverse order of elements\n",
    "# list = ['red', 'green', 23, 'violet', 'pink', 'yellow', 89]\n",
    "# reverse_copy = list.copy()\n",
    "\n",
    "# for i in range(len(list)):\n",
    "#     reverse_copy[i] = list[-i-1]\n",
    "\n",
    "# print(reverse_copy)\n",
    "\n",
    "# 2). Add elements of one list to end of another\n",
    "# add_list = [7, 9, 'apple']\n",
    "# copy_list = list.copy()\n",
    "# for element in add_list:\n",
    "#     copy_list.append(element)\n",
    "# print(copy_list)\n",
    "\n",
    "# 3). Sort numbers in decreasing order\n",
    "# n_list = [45, 56, -9, -12, 23, 45]\n",
    "\n",
    "# def descending_order(array):\n",
    "\n",
    "#     n = len(array)\n",
    "\n",
    "#     for i in range(n):\n",
    "#         min_val = array[i]\n",
    "#         min_idx = i   \n",
    "#         for j in range(i+1, n):\n",
    "#             if array[j]<min_val:\n",
    "#                 min_val = array[j]\n",
    "#                 min_idx = j\n",
    "\n",
    "#         curr_val = array[i]\n",
    "#         array[i] = min_val\n",
    "#         array[min_idx] = curr_val\n",
    "    \n",
    "#     return array\n",
    "\n",
    "# descending_order(n_list)"
   ]
  },
  {
   "cell_type": "markdown",
   "id": "dffd36be",
   "metadata": {},
   "source": [
    "## Iterations"
   ]
  },
  {
   "cell_type": "markdown",
   "id": "7568c20b",
   "metadata": {},
   "source": [
    "### *While loop*"
   ]
  },
  {
   "cell_type": "code",
   "execution_count": 108,
   "id": "176b1b9e",
   "metadata": {},
   "outputs": [
    {
     "name": "stdout",
     "output_type": "stream",
     "text": [
      "*\n",
      "**\n",
      "***\n",
      "****\n",
      "*****\n",
      "******\n",
      "*******\n",
      "********\n",
      "*********\n",
      "**********\n",
      "***********\n",
      "**********\n",
      "*********\n",
      "********\n",
      "*******\n",
      "******\n",
      "*****\n",
      "****\n",
      "***\n",
      "**\n",
      "*\n"
     ]
    }
   ],
   "source": [
    "line = '*'\n",
    "max_size = 10\n",
    "\n",
    "while len(line) <= max_size:\n",
    "    print(line)\n",
    "    line += '*'\n",
    "\n",
    "while len(line) > 0:\n",
    "    print(line)\n",
    "    line = line[:-1]"
   ]
  },
  {
   "cell_type": "markdown",
   "id": "d03e591d",
   "metadata": {},
   "source": [
    "#### Break & Continue "
   ]
  },
  {
   "cell_type": "markdown",
   "id": "fb028618",
   "metadata": {},
   "source": [
    "**BREAK**: exits from the loop.\n",
    "\n",
    "**CONTINUE**: skips that iteration and jumps to the next one."
   ]
  },
  {
   "cell_type": "markdown",
   "id": "b20973d0",
   "metadata": {},
   "source": [
    "### *For loop*"
   ]
  },
  {
   "cell_type": "markdown",
   "id": "e8abbf5b",
   "metadata": {},
   "source": [
    "For this case, *break* and *continue* work in the same way as they did in **While loop**"
   ]
  },
  {
   "cell_type": "code",
   "execution_count": null,
   "id": "9aace472",
   "metadata": {},
   "outputs": [
    {
     "name": "stdout",
     "output_type": "stream",
     "text": [
      "The value at position 0 is Monday\n",
      "The value at position 1 is Tuesday\n",
      "The value at position 2 is Wednesday\n",
      "The value at position 3 is Thursday\n",
      "The value at position 4 is Friday\n",
      "The value at position 5 is Saturday\n",
      "The value at position 6 is Sunday\n"
     ]
    }
   ],
   "source": [
    "#---------------------------------------------------------------\n",
    "# for fruit in ['apple', 'banana', 'pear', 'cherry']:\n",
    "#     print('Here is the fruit', fruit)\n",
    "#---------------------------------------------------------------\n",
    "\n",
    "#---------------------------------------------------------------\n",
    "# person = dict(name='Jon Doe', age=35, sex='male')\n",
    "# for key in person:\n",
    "#     print('Key:', key, '\\t,', 'Value:', person[key])\n",
    "#---------------------------------------------------------------\n",
    "\n",
    "#---------------------------------------------------------------\n",
    "# a_list = ['Monday', 'Tuesday', 'Wednesday', 'Thursday', 'Friday', 'Saturday', 'Sunday']\n",
    "# for i in range(len(a_list)):\n",
    "#     print('The value at position {} is {}'.format(i, a_list[i]))\n",
    "#---------------------------------------------------------------\n"
   ]
  },
  {
   "cell_type": "markdown",
   "id": "7c14aad3",
   "metadata": {},
   "source": [
    "## Try / Except"
   ]
  },
  {
   "cell_type": "markdown",
   "id": "be619721",
   "metadata": {},
   "source": [
    "## Exercise with Pandas"
   ]
  },
  {
   "cell_type": "code",
   "execution_count": null,
   "id": "115ff50f",
   "metadata": {},
   "outputs": [
    {
     "name": "stdout",
     "output_type": "stream",
     "text": [
      "        Return Flight ($)  Hotel per day ($)  Weekly Car Rental ($)\n",
      "City                                                               \n",
      "Paris                 200                 20                    200\n",
      "London                250                 30                    120\n",
      "Dubai                 370                 15                     80\n",
      "Mumbai                450                 10                     70\n"
     ]
    },
    {
     "data": {
      "text/plain": [
       "'Return Flight ($)'"
      ]
     },
     "execution_count": 75,
     "metadata": {},
     "output_type": "execute_result"
    }
   ],
   "source": [
    "import pandas as pd\n",
    "\n",
    "df = pd.DataFrame({'City' : ['Paris', 'London', 'Dubai', 'Mumbai'],\n",
    "             'Return Flight ($)' : [200,250,370,450],\n",
    "             'Hotel per day ($)': [20,30,15,10],\n",
    "             'Weekly Car Rental ($)' : [200,120,80,70]})\n",
    "\n",
    "df = df.set_index('City')\n",
    "print(df)\n",
    "df[df['Return Flight ($)']>300]"
   ]
  },
  {
   "cell_type": "code",
   "execution_count": 83,
   "id": "58d0a7ac",
   "metadata": {},
   "outputs": [],
   "source": [
    "def trip_by_days(n_days, dframe):\n",
    "    import math\n",
    "\n",
    "    n = len(dframe)\n",
    "    weeks = math.ceil(n_days/7)\n",
    "    calculated_cost = []\n",
    "    cols = dframe.columns\n",
    "    return_flight_col = dframe.columns[0]\n",
    "    hotel_daily_col = dframe.columns[1]\n",
    "    car_weekly_col = dframe.columns[2]\n",
    "\n",
    "    for city_name in dframe.index:\n",
    "        return_flight_cost = dframe.loc[city_name, return_flight_col]\n",
    "        hotel_daily_cost = dframe.loc[city_name, hotel_daily_col]*n_days\n",
    "        car_weekly_cost = dframe.loc[city_name, car_weekly_col]*weeks\n",
    "\n",
    "        total_cost = return_flight_cost + hotel_daily_cost + car_weekly_cost\n",
    "\n",
    "        calculated_cost.append({'City': city_name,\n",
    "                     'Trip Cost': total_cost})\n",
    "        \n",
    "    cost_df = pd.DataFrame(calculated_cost)\n",
    "    cost_df = cost_df.set_index('City')\n",
    "    \n",
    "    return cost_df"
   ]
  },
  {
   "cell_type": "code",
   "execution_count": 92,
   "id": "b3d70718",
   "metadata": {},
   "outputs": [
    {
     "data": {
      "text/html": [
       "<div>\n",
       "<style scoped>\n",
       "    .dataframe tbody tr th:only-of-type {\n",
       "        vertical-align: middle;\n",
       "    }\n",
       "\n",
       "    .dataframe tbody tr th {\n",
       "        vertical-align: top;\n",
       "    }\n",
       "\n",
       "    .dataframe thead th {\n",
       "        text-align: right;\n",
       "    }\n",
       "</style>\n",
       "<table border=\"1\" class=\"dataframe\">\n",
       "  <thead>\n",
       "    <tr style=\"text-align: right;\">\n",
       "      <th></th>\n",
       "      <th>Trip Cost</th>\n",
       "    </tr>\n",
       "    <tr>\n",
       "      <th>City</th>\n",
       "      <th></th>\n",
       "    </tr>\n",
       "  </thead>\n",
       "  <tbody>\n",
       "    <tr>\n",
       "      <th>Paris</th>\n",
       "      <td>800</td>\n",
       "    </tr>\n",
       "    <tr>\n",
       "      <th>London</th>\n",
       "      <td>790</td>\n",
       "    </tr>\n",
       "    <tr>\n",
       "      <th>Dubai</th>\n",
       "      <td>680</td>\n",
       "    </tr>\n",
       "    <tr>\n",
       "      <th>Mumbai</th>\n",
       "      <td>690</td>\n",
       "    </tr>\n",
       "  </tbody>\n",
       "</table>\n",
       "</div>"
      ],
      "text/plain": [
       "        Trip Cost\n",
       "City             \n",
       "Paris         800\n",
       "London        790\n",
       "Dubai         680\n",
       "Mumbai        690"
      ]
     },
     "execution_count": 92,
     "metadata": {},
     "output_type": "execute_result"
    }
   ],
   "source": [
    "trip_by_days(10, df)"
   ]
  },
  {
   "cell_type": "code",
   "execution_count": null,
   "id": "7ee8e752",
   "metadata": {},
   "outputs": [],
   "source": [
    "def trip_by_budget(budget, dframe):\n",
    "\n",
    "     "
   ]
  },
  {
   "cell_type": "markdown",
   "id": "0f6e7b77",
   "metadata": {},
   "source": [
    "# VIDEO 3: [Data analysis with python: Part 3 of 6](https://www.youtube.com/live/NlZXAytUeeE?feature=shared)"
   ]
  },
  {
   "cell_type": "code",
   "execution_count": 93,
   "id": "8ec6b639",
   "metadata": {},
   "outputs": [],
   "source": [
    "def crop_yield(region, weight):\n",
    "    result = 0\n",
    "    for x, w in zip(region, weight):\n",
    "        result += x*w\n",
    "    return result"
   ]
  },
  {
   "cell_type": "code",
   "execution_count": 101,
   "id": "c04fe4a5",
   "metadata": {},
   "outputs": [
    {
     "name": "stdout",
     "output_type": "stream",
     "text": [
      "Kanto yield:  56.8\n",
      "Johto yield:  76.9\n",
      "Hoenn yield:  81.9\n"
     ]
    }
   ],
   "source": [
    "kanto = [73, 67, 43]\n",
    "johto = [91, 88, 64]\n",
    "hoenn = [87, 134, 58]\n",
    "sinnoh = [102, 43, 37]\n",
    "unova = [69, 96, 70]\n",
    "\n",
    "weights = [0.3, 0.2, 0.5]\n",
    "\n",
    "print('Kanto yield: ', crop_yield(kanto, weights))\n",
    "print('Johto yield: ', crop_yield(johto, weights))\n",
    "print('Hoenn yield: ', crop_yield(hoenn, weights))"
   ]
  },
  {
   "cell_type": "markdown",
   "id": "835f0185",
   "metadata": {},
   "source": [
    "## NUMPY"
   ]
  },
  {
   "cell_type": "markdown",
   "id": "18526f04",
   "metadata": {},
   "source": [
    "We can achieve the same simply using the .dot function of numpy"
   ]
  },
  {
   "cell_type": "code",
   "execution_count": 103,
   "id": "1e8c5a9b",
   "metadata": {},
   "outputs": [
    {
     "name": "stdout",
     "output_type": "stream",
     "text": [
      "56.8\n"
     ]
    }
   ],
   "source": [
    "import numpy as np\n",
    "\n",
    "kanto = np.array([73, 67, 43])\n",
    "weights = np.array([0.3, 0.2, 0.5])\n",
    "\n",
    "print(np.dot(kanto, weights))"
   ]
  },
  {
   "cell_type": "markdown",
   "id": "3c153160",
   "metadata": {},
   "source": [
    "If we want to work with some file like a .txt -->  We have to convert the format using the function\n",
    "* np.genfromtxt('file.txt', delimiter=',', skip_header=1)\n",
    "\n",
    "If we have for example a matrix of 1000 regions with size = (1000, 3) and want to get the dot multiplication\n",
    "*   yield = np.matmul(a, b)\n",
    "*   yield = a @ b\n",
    "\n",
    "If we want to add the yields to the matrix (array) of climate date, we use\n",
    "*   np.concatenate((climate_data, yields), axis = 1)    ## We have to choose the right axis where to concatenate"
   ]
  },
  {
   "cell_type": "markdown",
   "id": "a83ee018",
   "metadata": {},
   "source": [
    "#### Arithmetic operations and broadcasting"
   ]
  },
  {
   "cell_type": "code",
   "execution_count": 23,
   "id": "7d25b27b",
   "metadata": {},
   "outputs": [
    {
     "name": "stdout",
     "output_type": "stream",
     "text": [
      "[[14 15 16 17]\n",
      " [ 4  5  6  7]\n",
      " [23 24 25 26]] \n",
      "\n",
      "[[10 10 10 10]\n",
      " [-4 -4 -4 -4]\n",
      " [11 11 11 11]] \n",
      "\n",
      "[[0.5 1.  1.5 2. ]\n",
      " [2.5 3.  3.5 4. ]\n",
      " [4.5 5.  5.5 6. ]] \n",
      "\n",
      "[[ 11  24  39  56]\n",
      " [  5  12  21  32]\n",
      " [180 210 242 276]] \n",
      "\n",
      "[[ 5  7  9 11]\n",
      " [ 9 11 13 15]\n",
      " [13 15 17 19]] \n",
      "\n"
     ]
    }
   ],
   "source": [
    "import numpy as np\n",
    "\n",
    "arr2 = np.array([[1, 2, 3, 4],\n",
    "                [5, 6, 7, 8],\n",
    "                [9, 10, 11, 12]])\n",
    "arr3 = np.array([[11, 12, 13, 14],\n",
    "                [1, 2, 3, 4],\n",
    "                [20, 21, 22, 23]])\n",
    "arr4 = np.array([4, 5, 6, 7])\n",
    "\n",
    "print(arr3+3, '\\n')\n",
    "print(arr3-arr2, '\\n')\n",
    "print(arr2/2, '\\n')\n",
    "print(arr2*arr3, '\\n')\n",
    "\n",
    "print(arr2 + arr4, '\\n')  ## Se pueden sumar arrays en los que coincida  una dimensión (3,4) + (4,)\n"
   ]
  },
  {
   "cell_type": "markdown",
   "id": "904489bc",
   "metadata": {},
   "source": [
    "#### Array indexing and slicing"
   ]
  },
  {
   "cell_type": "code",
   "execution_count": 45,
   "id": "3bf5a869",
   "metadata": {},
   "outputs": [
    {
     "name": "stdout",
     "output_type": "stream",
     "text": [
      "98.0\n",
      "[[[ 9. 10.]]\n",
      "\n",
      " [[98. 32.]]]\n",
      "[[ 2.  3.]\n",
      " [10. 11.]]\n",
      "[[ 5.   6.   7.   8. ]\n",
      " [17.  18.  19.5 43. ]]\n"
     ]
    }
   ],
   "source": [
    "import numpy as np\n",
    "\n",
    "arr = np.array([\n",
    "                [[1, 2, 3, 4],\n",
    "                 [5, 6, 7, 8]],\n",
    "\n",
    "                [[9, 10, 11, 12],\n",
    "                 [15, 16, 17, 18]],\n",
    "                 \n",
    "                [[98, 32, 81, 23],\n",
    "                 [17, 18, 19.5, 43]]])\n",
    "\n",
    "### Single element\n",
    "print(arr[2,0,0])\n",
    "\n",
    "### Subarray using ranges\n",
    "print(arr[1:, 0:1, :2]) #Desde el segundo en adelante, 0, hasta el segundo (1) ya que el tercero (posición 2) no lo coge\n",
    "\n",
    "### Mixing indices and ranges\n",
    "print(arr[:2, 0, 1:3])\n",
    "\n",
    "### Using fewer indice\n",
    "print(arr[::2, 1])"
   ]
  },
  {
   "cell_type": "markdown",
   "id": "fc1d123a",
   "metadata": {},
   "source": [
    "#### Other ways of creating np arrays"
   ]
  },
  {
   "cell_type": "code",
   "execution_count": 59,
   "id": "995f07b6",
   "metadata": {},
   "outputs": [
    {
     "name": "stdout",
     "output_type": "stream",
     "text": [
      "[[0. 0. 0.]\n",
      " [0. 0. 0.]]\n",
      "[[[1. 1. 1.]\n",
      "  [1. 1. 1.]]\n",
      "\n",
      " [[1. 1. 1.]\n",
      "  [1. 1. 1.]]]\n",
      "[[1. 0. 0.]\n",
      " [0. 1. 0.]\n",
      " [0. 0. 1.]]\n",
      "[0.30861079 0.1350417  0.21095405 0.27790992 0.22961018]\n",
      "[[ 0.25658812  0.00976711 -0.22727241]\n",
      " [-0.79680633 -0.13351877 -0.20425264]]\n",
      "[[[42 42]\n",
      "  [42 42]\n",
      "  [42 42]]\n",
      "\n",
      " [[42 42]\n",
      "  [42 42]\n",
      "  [42 42]]]\n",
      "[10 13 16 19 22 25 28 31 34 37 40 43 46 49 52 55 58 61 64 67 70 73 76 79\n",
      " 82 85 88]\n",
      "[ 3.   5.4  7.8 10.2 12.6 15.  17.4 19.8 22.2 24.6 27. ]\n"
     ]
    }
   ],
   "source": [
    "import numpy as np\n",
    "\n",
    "print(np.zeros((2,3)))\n",
    "print(np.ones([2, 2, 3]))\n",
    "print(np.eye(3))\n",
    "print(np.random.rand(5)) #Pick randomly a value from 0 to 1\n",
    "print(np.random.randn(2,3)) #Pick a value from a gaussian distribution\n",
    "print(np.full([2, 3, 2], 42)) # Create a np.array with size and values indicated\n",
    "print(np.arange(10, 90, 3))\n",
    "print(np.linspace(3, 27, 11))"
   ]
  },
  {
   "cell_type": "markdown",
   "id": "f2d8f3a4",
   "metadata": {},
   "source": [
    "### Assignment"
   ]
  },
  {
   "cell_type": "markdown",
   "id": "26d05638",
   "metadata": {},
   "source": [
    "* Pick 5 interesting numpy array functions\n",
    "* For each function, come up with 3 examples (2 that work, 1 that breaks and)"
   ]
  },
  {
   "cell_type": "code",
   "execution_count": null,
   "id": "99bd5512",
   "metadata": {},
   "outputs": [],
   "source": [
    "import numpy as np\n",
    "\n"
   ]
  },
  {
   "cell_type": "markdown",
   "id": "33a46758",
   "metadata": {},
   "source": [
    "## Reading from and Writing to Files using Python"
   ]
  },
  {
   "cell_type": "code",
   "execution_count": 68,
   "id": "e3151e50",
   "metadata": {},
   "outputs": [
    {
     "name": "stdout",
     "output_type": "stream",
     "text": [
      "Help on built-in function listdir in module nt:\n",
      "\n",
      "listdir(path=None)\n",
      "    Return a list containing the names of the files in the directory.\n",
      "    \n",
      "    path can be specified as either str, bytes, or a path-like object.  If path is bytes,\n",
      "      the filenames returned will also be bytes; in all other circumstances\n",
      "      the filenames returned will be str.\n",
      "    If path is None, uses the path='.'.\n",
      "    On some platforms, path may also be specified as an open file descriptor;\\\n",
      "      the file descriptor must refer to a directory.\n",
      "      If this functionality is unavailable, using it raises NotImplementedError.\n",
      "    \n",
      "    The list is in arbitrary order.  It does not include the special\n",
      "    entries '.' and '..' even if they are present in the directory.\n",
      "\n",
      "None\n",
      "Help on function makedirs in module os:\n",
      "\n",
      "makedirs(name, mode=511, exist_ok=False)\n",
      "    makedirs(name [, mode=0o777][, exist_ok=False])\n",
      "    \n",
      "    Super-mkdir; create a leaf directory and all intermediate ones.  Works like\n",
      "    mkdir, except that any intermediate path segment (not just the rightmost)\n",
      "    will be created if it does not exist. If the target directory already\n",
      "    exists, raise an OSError if exist_ok is False. Otherwise no exception is\n",
      "    raised.  This is recursive.\n",
      "\n"
     ]
    }
   ],
   "source": [
    "import os\n",
    "\n",
    "os.getcwd()  #With this we can check the current working directory\n",
    "\n",
    "print(help(os.listdir))\n",
    "\n",
    "os.listdir('.')     # Relative path w.r.t current location (. means current directory)\n",
    "os.listdir('/MachineLearning')  # We can browse the selected path\n",
    "\n",
    "help(os.makedirs)"
   ]
  },
  {
   "cell_type": "markdown",
   "id": "53929faf",
   "metadata": {},
   "source": [
    "#### Reading a file"
   ]
  },
  {
   "cell_type": "code",
   "execution_count": null,
   "id": "74a1f8ee",
   "metadata": {},
   "outputs": [],
   "source": [
    "file1 = open('./folder/file.txt', mode = 'r')\n",
    "\n",
    "file1_contents = file1.read()\n",
    "\n",
    "file1.close()  # It is important to close the file once we have finished operating with it because it occupies space in the RAM, if it is big can cause the system to slow down"
   ]
  },
  {
   "cell_type": "markdown",
   "id": "06453b48",
   "metadata": {},
   "source": [
    "To automatically close a file once it is processed, we can open it using the `'with'` statement"
   ]
  },
  {
   "cell_type": "code",
   "execution_count": null,
   "id": "bc5e885a",
   "metadata": {},
   "outputs": [],
   "source": [
    "with open('./folder/file.txt') as file2:\n",
    "    file2_contents = file2.read()\n",
    "    print(file2_contents)\n",
    "\n",
    "## Now the file is no longer open"
   ]
  },
  {
   "cell_type": "markdown",
   "id": "79d0764b",
   "metadata": {},
   "source": [
    "To read a file line by line"
   ]
  },
  {
   "cell_type": "code",
   "execution_count": null,
   "id": "13cafcc9",
   "metadata": {},
   "outputs": [],
   "source": [
    "with open('./folder/file.txt', 'r') as file3:\n",
    "    file3_lines = file3.readlines()\n",
    "\n",
    "## I get a list of strings, and I can treat it as a list (can separate, remove lines, concatenate, etc.)\n",
    "## We can split the values by means of the function .split(',')"
   ]
  },
  {
   "cell_type": "markdown",
   "id": "02f23e75",
   "metadata": {},
   "source": [
    "It is also important that we create functions for processing data, for example we can have the following functions and store them in github for later use:\n",
    "*   parse_headers(file):            stores the headers of a file in a list\n",
    "*   parse_values(file):             stores the values of a file in vectors in a list\n",
    "*   create_dicte(values, headers):  creates a dictionary using the previous extracted headers and values\n",
    "*   read_csv(path):                 read the csv using the previous functions in order to call just one function and perform all. Create the dict with the data from the file"
   ]
  },
  {
   "cell_type": "markdown",
   "id": "9ae06c27",
   "metadata": {},
   "source": [
    "#### Write to a file"
   ]
  },
  {
   "cell_type": "code",
   "execution_count": null,
   "id": "d13fa438",
   "metadata": {},
   "outputs": [],
   "source": [
    "with open('./path/to/write_file.txt', 'w') as f:\n",
    "    for x in values:\n",
    "        f.write('{},{},{},{}'.format(\n",
    "            x[0], x[1], x[2], x[3])) "
   ]
  },
  {
   "cell_type": "markdown",
   "id": "31511fa3",
   "metadata": {},
   "source": [
    "We can also create functions to write files, for example:\n",
    "*   write_csv(items, path): 1st we select the path where we want to write, , put headers and values. We can use the .join() function to join all data from a vector into a \n",
    "single line, so we can write line-by-line the new file. > REMEMBER: add a \\n at the end of each line "
   ]
  },
  {
   "cell_type": "markdown",
   "id": "0dcf6a8d",
   "metadata": {},
   "source": [
    "# VIDEO 4: [Data analysis with python: Part 4 of 6 - Analyzing tabular data with Pandas](https://www.youtube.com/live/b2mLDkMSyn4?feature=shared)"
   ]
  },
  {
   "cell_type": "code",
   "execution_count": null,
   "id": "2c28a6a8",
   "metadata": {},
   "outputs": [
    {
     "data": {
      "text/plain": [
       "Index(['date', 'new_cases', 'new_deaths', 'new_tests'], dtype='object')"
      ]
     },
     "execution_count": 33,
     "metadata": {},
     "output_type": "execute_result"
    }
   ],
   "source": [
    "import pandas as pd\n",
    "\n",
    "covid_data_dict = {\n",
    "    'date' : ['2020-08-30', '2020-08-31', '2020-09-01', '2020-09-02', '2020-09-03'],\n",
    "    'new_cases' : [1444, 1365, 996, 975, 1326],\n",
    "    'new_deaths' : [1, 4, 6, 8, 6],\n",
    "    'new_tests' : [53541, 42583, 54395, None, None]\n",
    "}\n",
    "\n",
    "covid_df = pd.DataFrame(covid_data_dict)\n",
    "\n",
    "## Imagine that I have a dataframe called covid_df\n",
    "\n",
    "covid_df.describe() #Me da informacion del dataframe como mean, count, std, min, max, etc.\n",
    "\n",
    "covid_df.columns    #Me da los nombres de cada columna (como se supone que estan divididos los datos)"
   ]
  },
  {
   "cell_type": "markdown",
   "id": "a47bdcd2",
   "metadata": {},
   "source": [
    "## Retrieving data from a data frame"
   ]
  },
  {
   "cell_type": "markdown",
   "id": "c68e26a0",
   "metadata": {},
   "source": [
    "***As a summary of this part:***\n",
    "\n",
    "- dataFrame['name_of_column']\n",
    "- dataFrame.name_of_column\n",
    "- dataFrame[['name1', 'name2']][#row_selected]\n",
    "- dataFrame.copy()\n",
    "- dataFrame.loc[index_value]  /  dataFrame.iloc['index_name']\n",
    "- dataFrame.head()      /       dataFrame.tail()\n",
    "- dataFrame.sample(#of_samples)\n",
    "- dataFrame.name_of_column.first_valid_index"
   ]
  },
  {
   "cell_type": "code",
   "execution_count": 1,
   "id": "9da0c90e",
   "metadata": {},
   "outputs": [],
   "source": [
    "import pandas as pd"
   ]
  },
  {
   "cell_type": "code",
   "execution_count": null,
   "id": "db66b545",
   "metadata": {},
   "outputs": [
    {
     "name": "stdout",
     "output_type": "stream",
     "text": [
      "         date  new_cases  new_deaths  new_tests\n",
      "0  2020-08-30       1444           1    53541.0\n",
      "1  2020-08-31       1365           4    42583.0\n",
      "2  2020-09-01        996           6    54395.0\n",
      "3  2020-09-02        975           8        NaN\n",
      "4  2020-09-03       1326           6        NaN\n"
     ]
    }
   ],
   "source": [
    "covid_data_dict = {\n",
    "    'date' : ['2020-08-30', '2020-08-31', '2020-09-01', '2020-09-02', '2020-09-03'],\n",
    "    'new_cases' : [1444, 1365, 996, 975, 1326],\n",
    "    'new_deaths' : [1, 4, 6, 8, 6],\n",
    "    'new_tests' : [53541, 42583, 54395, None, None]\n",
    "}\n",
    "\n",
    "covid_df = pd.DataFrame(covid_data_dict)\n",
    "print(covid_df)"
   ]
  },
  {
   "cell_type": "code",
   "execution_count": 10,
   "id": "8ead9fc3",
   "metadata": {},
   "outputs": [
    {
     "name": "stdout",
     "output_type": "stream",
     "text": [
      "0    1444\n",
      "1    1365\n",
      "2     996\n",
      "3     975\n",
      "4    1326\n",
      "Name: new_cases, dtype: int64\n",
      "996\n",
      "0    1444\n",
      "1    1365\n",
      "2     996\n",
      "3     975\n",
      "4    1326\n",
      "Name: new_cases, dtype: int64\n",
      "         date  new_cases\n",
      "0  2020-08-30       1444\n",
      "1  2020-08-31       1365\n",
      "2  2020-09-01        996\n",
      "3  2020-09-02        975\n",
      "4  2020-09-03       1326\n"
     ]
    }
   ],
   "source": [
    "print(covid_df['new_cases'])\n",
    "print(covid_df['new_cases'][2])\n",
    "\n",
    "# The method .at can directly retrieve info from the dataframe, which is slightly easier to write\n",
    "print(covid_df.new_cases)  \n",
    "\n",
    "## We can access several types at once\n",
    "print(covid_df[['date', 'new_cases']])"
   ]
  },
  {
   "cell_type": "code",
   "execution_count": 11,
   "id": "9fbf977e",
   "metadata": {},
   "outputs": [],
   "source": [
    "## We can copy a dataframe using the .copy function \n",
    "covid_df_copy = covid_df.copy()"
   ]
  },
  {
   "cell_type": "code",
   "execution_count": 16,
   "id": "56ba40e1",
   "metadata": {},
   "outputs": [
    {
     "name": "stdout",
     "output_type": "stream",
     "text": [
      "date          2020-09-02\n",
      "new_cases            975\n",
      "new_deaths             8\n",
      "new_tests            NaN\n",
      "Name: 3, dtype: object \n",
      "\n",
      "date          2020-09-02\n",
      "new_cases            975\n",
      "new_deaths             8\n",
      "new_tests            NaN\n",
      "Name: 3, dtype: object\n"
     ]
    }
   ],
   "source": [
    "## To access a specific row, we can use the .loc method, where we specify the number of row we want to access\n",
    "print(covid_df.loc[3], '\\n')\n",
    "\n",
    "## We can use also the .iloc method to access a row by its index. Now we do not have assigned names to index, so they will be 0, 1, 2...\n",
    "print(covid_df.iloc[3])"
   ]
  },
  {
   "cell_type": "code",
   "execution_count": 19,
   "id": "840ecd81",
   "metadata": {},
   "outputs": [
    {
     "name": "stdout",
     "output_type": "stream",
     "text": [
      "         date  new_cases  new_deaths  new_tests\n",
      "0  2020-08-30       1444           1    53541.0\n",
      "1  2020-08-31       1365           4    42583.0 \n",
      "\n",
      "         date  new_cases  new_deaths  new_tests\n",
      "3  2020-09-02        975           8        NaN\n",
      "4  2020-09-03       1326           6        NaN\n"
     ]
    }
   ],
   "source": [
    "## We can access firsts and last values of the dataframe by using 'head' or 'tail\n",
    "print(covid_df.head(2), '\\n')\n",
    "print(covid_df.tail(2))"
   ]
  },
  {
   "cell_type": "code",
   "execution_count": null,
   "id": "500b2eea",
   "metadata": {},
   "outputs": [
    {
     "data": {
      "text/html": [
       "<div>\n",
       "<style scoped>\n",
       "    .dataframe tbody tr th:only-of-type {\n",
       "        vertical-align: middle;\n",
       "    }\n",
       "\n",
       "    .dataframe tbody tr th {\n",
       "        vertical-align: top;\n",
       "    }\n",
       "\n",
       "    .dataframe thead th {\n",
       "        text-align: right;\n",
       "    }\n",
       "</style>\n",
       "<table border=\"1\" class=\"dataframe\">\n",
       "  <thead>\n",
       "    <tr style=\"text-align: right;\">\n",
       "      <th></th>\n",
       "      <th>date</th>\n",
       "      <th>new_cases</th>\n",
       "      <th>new_deaths</th>\n",
       "      <th>new_tests</th>\n",
       "    </tr>\n",
       "  </thead>\n",
       "  <tbody>\n",
       "    <tr>\n",
       "      <th>1</th>\n",
       "      <td>2020-08-31</td>\n",
       "      <td>1365</td>\n",
       "      <td>4</td>\n",
       "      <td>42583.0</td>\n",
       "    </tr>\n",
       "    <tr>\n",
       "      <th>2</th>\n",
       "      <td>2020-09-01</td>\n",
       "      <td>996</td>\n",
       "      <td>6</td>\n",
       "      <td>54395.0</td>\n",
       "    </tr>\n",
       "    <tr>\n",
       "      <th>4</th>\n",
       "      <td>2020-09-03</td>\n",
       "      <td>1326</td>\n",
       "      <td>6</td>\n",
       "      <td>NaN</td>\n",
       "    </tr>\n",
       "  </tbody>\n",
       "</table>\n",
       "</div>"
      ],
      "text/plain": [
       "         date  new_cases  new_deaths  new_tests\n",
       "1  2020-08-31       1365           4    42583.0\n",
       "2  2020-09-01        996           6    54395.0\n",
       "4  2020-09-03       1326           6        NaN"
      ]
     },
     "execution_count": 25,
     "metadata": {},
     "output_type": "execute_result"
    }
   ],
   "source": [
    "## We can use .sample to retrieve a random sample of a given size from the dataframe. Each time we run the command, the selected rows are different\n",
    "covid_df.sample(3)"
   ]
  },
  {
   "cell_type": "markdown",
   "id": "cd794f1d",
   "metadata": {},
   "source": [
    "## Analyzing Data from data frames"
   ]
  },
  {
   "cell_type": "code",
   "execution_count": 26,
   "id": "022bfeb9",
   "metadata": {},
   "outputs": [],
   "source": [
    "import pandas as pd"
   ]
  },
  {
   "cell_type": "code",
   "execution_count": 27,
   "id": "79d19bc7",
   "metadata": {},
   "outputs": [
    {
     "name": "stdout",
     "output_type": "stream",
     "text": [
      "         date  new_cases  new_deaths  new_tests\n",
      "0  2020-08-30       1444           1    53541.0\n",
      "1  2020-08-31       1365           4    42583.0\n",
      "2  2020-09-01        996           6    54395.0\n",
      "3  2020-09-02        975           8        NaN\n",
      "4  2020-09-03       1326           6        NaN\n"
     ]
    }
   ],
   "source": [
    "covid_data_dict = {\n",
    "    'date' : ['2020-08-30', '2020-08-31', '2020-09-01', '2020-09-02', '2020-09-03'],\n",
    "    'new_cases' : [1444, 1365, 996, 975, 1326],\n",
    "    'new_deaths' : [1, 4, 6, 8, 6],\n",
    "    'new_tests' : [53541, 42583, 54395, None, None]\n",
    "}\n",
    "\n",
    "covid_df = pd.DataFrame(covid_data_dict)\n",
    "print(covid_df)"
   ]
  },
  {
   "cell_type": "markdown",
   "id": "2785b104",
   "metadata": {},
   "source": [
    "**Q: What is the total number of reported cases and deaths ?**"
   ]
  },
  {
   "cell_type": "code",
   "execution_count": 30,
   "id": "896ced31",
   "metadata": {},
   "outputs": [
    {
     "name": "stdout",
     "output_type": "stream",
     "text": [
      "The total cases value is 6106 and the total deaths value is 25\n"
     ]
    }
   ],
   "source": [
    "total_cases = covid_df.new_cases.sum()\n",
    "total_deaths = covid_df.new_deaths.sum()\n",
    "print('The total cases value is {} and the total deaths value is {}'.format(total_cases, total_deaths))"
   ]
  },
  {
   "cell_type": "markdown",
   "id": "145a6caa",
   "metadata": {},
   "source": [
    "**Q: What is the overall death rate (ratio of reported deaths to reported cases)?**"
   ]
  },
  {
   "cell_type": "code",
   "execution_count": 32,
   "id": "ef19d805",
   "metadata": {},
   "outputs": [
    {
     "name": "stdout",
     "output_type": "stream",
     "text": [
      "The death rate is equal to 0.004094333442515558\n"
     ]
    }
   ],
   "source": [
    "death_rate = covid_df.new_deaths.sum()/covid_df.new_cases.sum()\n",
    "print('The death rate is equal to {}'.format(death_rate))"
   ]
  },
  {
   "cell_type": "markdown",
   "id": "5a57beff",
   "metadata": {},
   "source": [
    "*It is important first to set the questions that you want to answer with quantitative values*"
   ]
  },
  {
   "cell_type": "markdown",
   "id": "a8c838ae",
   "metadata": {},
   "source": [
    "## Querying and sorting rows"
   ]
  },
  {
   "cell_type": "code",
   "execution_count": null,
   "id": "9b289c5b",
   "metadata": {},
   "outputs": [],
   "source": [
    "import pandas as pd\n",
    "\n",
    "covid_data_dict = {\n",
    "    'date' : ['2020-08-30', '2020-08-31', '2020-09-01', '2020-09-02', '2020-09-03'],\n",
    "    'new_cases' : [1444, 1365, 996, 975, 1326],\n",
    "    'new_deaths' : [1, 4, 6, 8, 6],\n",
    "    'new_tests' : [53541, 42583, 54395, None, None]\n",
    "}\n",
    "\n",
    "covid_df = pd.DataFrame(covid_data_dict)\n",
    "print(covid_df)"
   ]
  },
  {
   "cell_type": "code",
   "execution_count": 41,
   "id": "b2f28e1a",
   "metadata": {},
   "outputs": [
    {
     "name": "stdout",
     "output_type": "stream",
     "text": [
      "0     True\n",
      "1     True\n",
      "2    False\n",
      "3    False\n",
      "4     True\n",
      "Name: new_cases, dtype: bool\n"
     ]
    },
    {
     "data": {
      "text/html": [
       "<div>\n",
       "<style scoped>\n",
       "    .dataframe tbody tr th:only-of-type {\n",
       "        vertical-align: middle;\n",
       "    }\n",
       "\n",
       "    .dataframe tbody tr th {\n",
       "        vertical-align: top;\n",
       "    }\n",
       "\n",
       "    .dataframe thead th {\n",
       "        text-align: right;\n",
       "    }\n",
       "</style>\n",
       "<table border=\"1\" class=\"dataframe\">\n",
       "  <thead>\n",
       "    <tr style=\"text-align: right;\">\n",
       "      <th></th>\n",
       "      <th>date</th>\n",
       "      <th>new_cases</th>\n",
       "      <th>new_deaths</th>\n",
       "      <th>new_tests</th>\n",
       "    </tr>\n",
       "  </thead>\n",
       "  <tbody>\n",
       "    <tr>\n",
       "      <th>0</th>\n",
       "      <td>2020-08-30</td>\n",
       "      <td>1444</td>\n",
       "      <td>1</td>\n",
       "      <td>53541.0</td>\n",
       "    </tr>\n",
       "    <tr>\n",
       "      <th>1</th>\n",
       "      <td>2020-08-31</td>\n",
       "      <td>1365</td>\n",
       "      <td>4</td>\n",
       "      <td>42583.0</td>\n",
       "    </tr>\n",
       "    <tr>\n",
       "      <th>4</th>\n",
       "      <td>2020-09-03</td>\n",
       "      <td>1326</td>\n",
       "      <td>6</td>\n",
       "      <td>NaN</td>\n",
       "    </tr>\n",
       "  </tbody>\n",
       "</table>\n",
       "</div>"
      ],
      "text/plain": [
       "         date  new_cases  new_deaths  new_tests\n",
       "0  2020-08-30       1444           1    53541.0\n",
       "1  2020-08-31       1365           4    42583.0\n",
       "4  2020-09-03       1326           6        NaN"
      ]
     },
     "execution_count": 41,
     "metadata": {},
     "output_type": "execute_result"
    }
   ],
   "source": [
    "high_new_cases = covid_df.new_cases > 1000\n",
    "high_cases_df = covid_df[covid_df.new_cases > 1000]\n",
    "\n",
    "print(high_new_cases)\n",
    "high_cases_df"
   ]
  },
  {
   "cell_type": "code",
   "execution_count": 77,
   "id": "5d6f6e6c",
   "metadata": {},
   "outputs": [
    {
     "data": {
      "text/html": [
       "<div>\n",
       "<style scoped>\n",
       "    .dataframe tbody tr th:only-of-type {\n",
       "        vertical-align: middle;\n",
       "    }\n",
       "\n",
       "    .dataframe tbody tr th {\n",
       "        vertical-align: top;\n",
       "    }\n",
       "\n",
       "    .dataframe thead th {\n",
       "        text-align: right;\n",
       "    }\n",
       "</style>\n",
       "<table border=\"1\" class=\"dataframe\">\n",
       "  <thead>\n",
       "    <tr style=\"text-align: right;\">\n",
       "      <th></th>\n",
       "      <th>date</th>\n",
       "      <th>new_cases</th>\n",
       "      <th>new_deaths</th>\n",
       "      <th>new_tests</th>\n",
       "      <th>positive_ratio</th>\n",
       "    </tr>\n",
       "  </thead>\n",
       "  <tbody>\n",
       "    <tr>\n",
       "      <th>0</th>\n",
       "      <td>2020-08-30</td>\n",
       "      <td>1444</td>\n",
       "      <td>1</td>\n",
       "      <td>53541.0</td>\n",
       "      <td>0.026970</td>\n",
       "    </tr>\n",
       "    <tr>\n",
       "      <th>1</th>\n",
       "      <td>2020-08-31</td>\n",
       "      <td>1365</td>\n",
       "      <td>4</td>\n",
       "      <td>42583.0</td>\n",
       "      <td>0.032055</td>\n",
       "    </tr>\n",
       "    <tr>\n",
       "      <th>2</th>\n",
       "      <td>2020-09-01</td>\n",
       "      <td>996</td>\n",
       "      <td>6</td>\n",
       "      <td>54395.0</td>\n",
       "      <td>0.018311</td>\n",
       "    </tr>\n",
       "    <tr>\n",
       "      <th>3</th>\n",
       "      <td>2020-09-02</td>\n",
       "      <td>975</td>\n",
       "      <td>8</td>\n",
       "      <td>NaN</td>\n",
       "      <td>NaN</td>\n",
       "    </tr>\n",
       "    <tr>\n",
       "      <th>4</th>\n",
       "      <td>2020-09-03</td>\n",
       "      <td>1326</td>\n",
       "      <td>6</td>\n",
       "      <td>NaN</td>\n",
       "      <td>NaN</td>\n",
       "    </tr>\n",
       "  </tbody>\n",
       "</table>\n",
       "</div>"
      ],
      "text/plain": [
       "         date  new_cases  new_deaths  new_tests  positive_ratio\n",
       "0  2020-08-30       1444           1    53541.0        0.026970\n",
       "1  2020-08-31       1365           4    42583.0        0.032055\n",
       "2  2020-09-01        996           6    54395.0        0.018311\n",
       "3  2020-09-02        975           8        NaN             NaN\n",
       "4  2020-09-03       1326           6        NaN             NaN"
      ]
     },
     "execution_count": 77,
     "metadata": {},
     "output_type": "execute_result"
    }
   ],
   "source": [
    "high_ratio_df = covid_df[covid_df.new_cases / covid_df.new_tests > 0.02]\n",
    "covid_df['positive_ratio'] = covid_df.new_cases / covid_df.new_tests\n",
    "\n",
    "covid_df"
   ]
  },
  {
   "cell_type": "markdown",
   "id": "f7cf6a8f",
   "metadata": {},
   "source": [
    "We have the possibility of erasing a column from our dataframe in case we do not have the required data"
   ]
  },
  {
   "cell_type": "code",
   "execution_count": 78,
   "id": "f33e381a",
   "metadata": {},
   "outputs": [
    {
     "name": "stdout",
     "output_type": "stream",
     "text": [
      "         date  new_cases  new_deaths  new_tests  positive_ratio\n",
      "0  2020-08-30       1444           1    53541.0        0.026970\n",
      "1  2020-08-31       1365           4    42583.0        0.032055\n",
      "2  2020-09-01        996           6    54395.0        0.018311\n",
      "3  2020-09-02        975           8        NaN             NaN\n",
      "4  2020-09-03       1326           6        NaN             NaN\n"
     ]
    },
    {
     "data": {
      "text/html": [
       "<div>\n",
       "<style scoped>\n",
       "    .dataframe tbody tr th:only-of-type {\n",
       "        vertical-align: middle;\n",
       "    }\n",
       "\n",
       "    .dataframe tbody tr th {\n",
       "        vertical-align: top;\n",
       "    }\n",
       "\n",
       "    .dataframe thead th {\n",
       "        text-align: right;\n",
       "    }\n",
       "</style>\n",
       "<table border=\"1\" class=\"dataframe\">\n",
       "  <thead>\n",
       "    <tr style=\"text-align: right;\">\n",
       "      <th></th>\n",
       "      <th>date</th>\n",
       "      <th>new_cases</th>\n",
       "      <th>new_deaths</th>\n",
       "      <th>new_tests</th>\n",
       "    </tr>\n",
       "  </thead>\n",
       "  <tbody>\n",
       "    <tr>\n",
       "      <th>0</th>\n",
       "      <td>2020-08-30</td>\n",
       "      <td>1444</td>\n",
       "      <td>1</td>\n",
       "      <td>53541.0</td>\n",
       "    </tr>\n",
       "    <tr>\n",
       "      <th>1</th>\n",
       "      <td>2020-08-31</td>\n",
       "      <td>1365</td>\n",
       "      <td>4</td>\n",
       "      <td>42583.0</td>\n",
       "    </tr>\n",
       "    <tr>\n",
       "      <th>2</th>\n",
       "      <td>2020-09-01</td>\n",
       "      <td>996</td>\n",
       "      <td>6</td>\n",
       "      <td>54395.0</td>\n",
       "    </tr>\n",
       "    <tr>\n",
       "      <th>3</th>\n",
       "      <td>2020-09-02</td>\n",
       "      <td>975</td>\n",
       "      <td>8</td>\n",
       "      <td>NaN</td>\n",
       "    </tr>\n",
       "    <tr>\n",
       "      <th>4</th>\n",
       "      <td>2020-09-03</td>\n",
       "      <td>1326</td>\n",
       "      <td>6</td>\n",
       "      <td>NaN</td>\n",
       "    </tr>\n",
       "  </tbody>\n",
       "</table>\n",
       "</div>"
      ],
      "text/plain": [
       "         date  new_cases  new_deaths  new_tests\n",
       "0  2020-08-30       1444           1    53541.0\n",
       "1  2020-08-31       1365           4    42583.0\n",
       "2  2020-09-01        996           6    54395.0\n",
       "3  2020-09-02        975           8        NaN\n",
       "4  2020-09-03       1326           6        NaN"
      ]
     },
     "execution_count": 78,
     "metadata": {},
     "output_type": "execute_result"
    }
   ],
   "source": [
    "print(covid_df)\n",
    "covid_df.drop(columns = ['positive_ratio'], inplace=True)\n",
    "covid_df"
   ]
  },
  {
   "cell_type": "markdown",
   "id": "ee7126ed",
   "metadata": {},
   "source": [
    "## Sorting rows using column values"
   ]
  },
  {
   "cell_type": "markdown",
   "id": "7998ac1a",
   "metadata": {},
   "source": [
    "***As a summary of this section, we can highlight the following:***\n",
    "\n",
    "- covid_df.new_cases.sum()\n",
    "- covid_df[covid_df.new_cases > 1000]\n",
    "- covid_df['pos_ratio'] = covid_df.new_cases / covid_df.new_tests\n",
    "- covid_df.drop('pos_ratio')\n",
    "- covid_df.sort_values(by, ascending)\n",
    "- covid_df.at[row, col_name]"
   ]
  },
  {
   "cell_type": "code",
   "execution_count": null,
   "id": "3fc7b8d1",
   "metadata": {},
   "outputs": [],
   "source": [
    "import pandas as pd\n",
    "\n",
    "covid_data_dict = {\n",
    "    'date' : ['2020-08-30', '2020-08-31', '2020-09-01', '2020-09-02', '2020-09-03'],\n",
    "    'new_cases' : [1444, 1365, 996, 975, 1326],\n",
    "    'new_deaths' : [1, 4, 6, 8, 6],\n",
    "    'new_tests' : [53541, 42583, 54395, None, None]\n",
    "}\n",
    "\n",
    "covid_df = pd.DataFrame(covid_data_dict)\n",
    "print(covid_df)"
   ]
  },
  {
   "cell_type": "code",
   "execution_count": 83,
   "id": "52cc1d7e",
   "metadata": {},
   "outputs": [
    {
     "data": {
      "text/html": [
       "<div>\n",
       "<style scoped>\n",
       "    .dataframe tbody tr th:only-of-type {\n",
       "        vertical-align: middle;\n",
       "    }\n",
       "\n",
       "    .dataframe tbody tr th {\n",
       "        vertical-align: top;\n",
       "    }\n",
       "\n",
       "    .dataframe thead th {\n",
       "        text-align: right;\n",
       "    }\n",
       "</style>\n",
       "<table border=\"1\" class=\"dataframe\">\n",
       "  <thead>\n",
       "    <tr style=\"text-align: right;\">\n",
       "      <th></th>\n",
       "      <th>date</th>\n",
       "      <th>new_cases</th>\n",
       "      <th>new_deaths</th>\n",
       "      <th>new_tests</th>\n",
       "    </tr>\n",
       "  </thead>\n",
       "  <tbody>\n",
       "    <tr>\n",
       "      <th>0</th>\n",
       "      <td>2020-08-30</td>\n",
       "      <td>1444</td>\n",
       "      <td>1</td>\n",
       "      <td>53541.0</td>\n",
       "    </tr>\n",
       "    <tr>\n",
       "      <th>1</th>\n",
       "      <td>2020-08-31</td>\n",
       "      <td>1365</td>\n",
       "      <td>4</td>\n",
       "      <td>42583.0</td>\n",
       "    </tr>\n",
       "    <tr>\n",
       "      <th>4</th>\n",
       "      <td>2020-09-03</td>\n",
       "      <td>1326</td>\n",
       "      <td>6</td>\n",
       "      <td>NaN</td>\n",
       "    </tr>\n",
       "    <tr>\n",
       "      <th>2</th>\n",
       "      <td>2020-09-01</td>\n",
       "      <td>996</td>\n",
       "      <td>6</td>\n",
       "      <td>54395.0</td>\n",
       "    </tr>\n",
       "    <tr>\n",
       "      <th>3</th>\n",
       "      <td>2020-09-02</td>\n",
       "      <td>975</td>\n",
       "      <td>8</td>\n",
       "      <td>NaN</td>\n",
       "    </tr>\n",
       "  </tbody>\n",
       "</table>\n",
       "</div>"
      ],
      "text/plain": [
       "         date  new_cases  new_deaths  new_tests\n",
       "0  2020-08-30       1444           1    53541.0\n",
       "1  2020-08-31       1365           4    42583.0\n",
       "4  2020-09-03       1326           6        NaN\n",
       "2  2020-09-01        996           6    54395.0\n",
       "3  2020-09-02        975           8        NaN"
      ]
     },
     "execution_count": 83,
     "metadata": {},
     "output_type": "execute_result"
    }
   ],
   "source": [
    "covid_df.sort_values('new_cases', ascending=False)"
   ]
  },
  {
   "cell_type": "markdown",
   "id": "56e38744",
   "metadata": {},
   "source": [
    "*If for example we order the data and see some value that is a very significant **outlier**, we can do several things like:*\n",
    "- Replace it with 0\n",
    "- Replace it with the average value of the entire column\n",
    "- Replace it with the average of just previous and next rows\n",
    "- Discard the complete row\n",
    "\n",
    "The `.at` method can be used to modify a specific value within the dataframe\n",
    "\n",
    "`covid_df.at[column, 'new_cases'] = (covid_df.at[prev_col, 'new_cases] + covid_df.at[next_col, 'new_cases]) / 2`"
   ]
  },
  {
   "cell_type": "markdown",
   "id": "2e7b4f71",
   "metadata": {},
   "source": [
    "## Working with dates"
   ]
  },
  {
   "cell_type": "code",
   "execution_count": 86,
   "id": "14bdea78",
   "metadata": {},
   "outputs": [
    {
     "name": "stdout",
     "output_type": "stream",
     "text": [
      "0    2020-08-30\n",
      "1    2020-08-31\n",
      "2    2020-09-01\n",
      "3    2020-09-02\n",
      "4    2020-09-03\n",
      "Name: date, dtype: object\n"
     ]
    }
   ],
   "source": [
    "import pandas as pd\n",
    "\n",
    "covid_data_dict = {\n",
    "    'date' : ['2020-08-30', '2020-08-31', '2020-09-01', '2020-09-02', '2020-09-03'],\n",
    "    'new_cases' : [1444, 1365, 996, 975, 1326],\n",
    "    'new_deaths' : [1, 4, 6, 8, 6],\n",
    "    'new_tests' : [53541, 42583, 54395, None, None]\n",
    "}\n",
    "\n",
    "covid_df = pd.DataFrame(covid_data_dict)\n",
    "print(covid_df.date)"
   ]
  },
  {
   "cell_type": "code",
   "execution_count": 87,
   "id": "a4786119",
   "metadata": {},
   "outputs": [
    {
     "data": {
      "text/plain": [
       "0   2020-08-30\n",
       "1   2020-08-31\n",
       "2   2020-09-01\n",
       "3   2020-09-02\n",
       "4   2020-09-03\n",
       "Name: date, dtype: datetime64[ns]"
      ]
     },
     "execution_count": 87,
     "metadata": {},
     "output_type": "execute_result"
    }
   ],
   "source": [
    "covid_df['date'] = pd.to_datetime(covid_df.date)\n",
    "covid_df.date"
   ]
  },
  {
   "cell_type": "code",
   "execution_count": null,
   "id": "8dd69fda",
   "metadata": {},
   "outputs": [
    {
     "data": {
      "text/html": [
       "<div>\n",
       "<style scoped>\n",
       "    .dataframe tbody tr th:only-of-type {\n",
       "        vertical-align: middle;\n",
       "    }\n",
       "\n",
       "    .dataframe tbody tr th {\n",
       "        vertical-align: top;\n",
       "    }\n",
       "\n",
       "    .dataframe thead th {\n",
       "        text-align: right;\n",
       "    }\n",
       "</style>\n",
       "<table border=\"1\" class=\"dataframe\">\n",
       "  <thead>\n",
       "    <tr style=\"text-align: right;\">\n",
       "      <th></th>\n",
       "      <th>date</th>\n",
       "      <th>new_cases</th>\n",
       "      <th>new_deaths</th>\n",
       "      <th>new_tests</th>\n",
       "      <th>year</th>\n",
       "      <th>month</th>\n",
       "      <th>day</th>\n",
       "      <th>weekday</th>\n",
       "    </tr>\n",
       "  </thead>\n",
       "  <tbody>\n",
       "    <tr>\n",
       "      <th>0</th>\n",
       "      <td>2020-08-30</td>\n",
       "      <td>1444</td>\n",
       "      <td>1</td>\n",
       "      <td>53541.0</td>\n",
       "      <td>2020</td>\n",
       "      <td>8</td>\n",
       "      <td>30</td>\n",
       "      <td>6</td>\n",
       "    </tr>\n",
       "    <tr>\n",
       "      <th>1</th>\n",
       "      <td>2020-08-31</td>\n",
       "      <td>1365</td>\n",
       "      <td>4</td>\n",
       "      <td>42583.0</td>\n",
       "      <td>2020</td>\n",
       "      <td>8</td>\n",
       "      <td>31</td>\n",
       "      <td>0</td>\n",
       "    </tr>\n",
       "    <tr>\n",
       "      <th>2</th>\n",
       "      <td>2020-09-01</td>\n",
       "      <td>996</td>\n",
       "      <td>6</td>\n",
       "      <td>54395.0</td>\n",
       "      <td>2020</td>\n",
       "      <td>9</td>\n",
       "      <td>1</td>\n",
       "      <td>1</td>\n",
       "    </tr>\n",
       "    <tr>\n",
       "      <th>3</th>\n",
       "      <td>2020-09-02</td>\n",
       "      <td>975</td>\n",
       "      <td>8</td>\n",
       "      <td>NaN</td>\n",
       "      <td>2020</td>\n",
       "      <td>9</td>\n",
       "      <td>2</td>\n",
       "      <td>2</td>\n",
       "    </tr>\n",
       "    <tr>\n",
       "      <th>4</th>\n",
       "      <td>2020-09-03</td>\n",
       "      <td>1326</td>\n",
       "      <td>6</td>\n",
       "      <td>NaN</td>\n",
       "      <td>2020</td>\n",
       "      <td>9</td>\n",
       "      <td>3</td>\n",
       "      <td>3</td>\n",
       "    </tr>\n",
       "  </tbody>\n",
       "</table>\n",
       "</div>"
      ],
      "text/plain": [
       "        date  new_cases  new_deaths  new_tests  year  month  day  weekday\n",
       "0 2020-08-30       1444           1    53541.0  2020      8   30        6\n",
       "1 2020-08-31       1365           4    42583.0  2020      8   31        0\n",
       "2 2020-09-01        996           6    54395.0  2020      9    1        1\n",
       "3 2020-09-02        975           8        NaN  2020      9    2        2\n",
       "4 2020-09-03       1326           6        NaN  2020      9    3        3"
      ]
     },
     "execution_count": 88,
     "metadata": {},
     "output_type": "execute_result"
    }
   ],
   "source": [
    "covid_df['year'] = pd.DatetimeIndex(covid_df.date).year\n",
    "covid_df['month'] = pd.DatetimeIndex(covid_df.date).month\n",
    "covid_df['day'] = pd.DatetimeIndex(covid_df.date).day\n",
    "covid_df['weekday'] = pd.DatetimeIndex(covid_df.date).weekday  #Where monday is 0 and Sunday is 6\n",
    "covid_df"
   ]
  },
  {
   "cell_type": "code",
   "execution_count": 90,
   "id": "99a6c495",
   "metadata": {},
   "outputs": [
    {
     "data": {
      "text/html": [
       "<div>\n",
       "<style scoped>\n",
       "    .dataframe tbody tr th:only-of-type {\n",
       "        vertical-align: middle;\n",
       "    }\n",
       "\n",
       "    .dataframe tbody tr th {\n",
       "        vertical-align: top;\n",
       "    }\n",
       "\n",
       "    .dataframe thead th {\n",
       "        text-align: right;\n",
       "    }\n",
       "</style>\n",
       "<table border=\"1\" class=\"dataframe\">\n",
       "  <thead>\n",
       "    <tr style=\"text-align: right;\">\n",
       "      <th></th>\n",
       "      <th>date</th>\n",
       "      <th>new_cases</th>\n",
       "      <th>new_deaths</th>\n",
       "      <th>new_tests</th>\n",
       "      <th>year</th>\n",
       "      <th>month</th>\n",
       "      <th>day</th>\n",
       "      <th>weekday</th>\n",
       "    </tr>\n",
       "  </thead>\n",
       "  <tbody>\n",
       "    <tr>\n",
       "      <th>2</th>\n",
       "      <td>2020-09-01</td>\n",
       "      <td>996</td>\n",
       "      <td>6</td>\n",
       "      <td>54395.0</td>\n",
       "      <td>2020</td>\n",
       "      <td>9</td>\n",
       "      <td>1</td>\n",
       "      <td>1</td>\n",
       "    </tr>\n",
       "    <tr>\n",
       "      <th>3</th>\n",
       "      <td>2020-09-02</td>\n",
       "      <td>975</td>\n",
       "      <td>8</td>\n",
       "      <td>NaN</td>\n",
       "      <td>2020</td>\n",
       "      <td>9</td>\n",
       "      <td>2</td>\n",
       "      <td>2</td>\n",
       "    </tr>\n",
       "    <tr>\n",
       "      <th>4</th>\n",
       "      <td>2020-09-03</td>\n",
       "      <td>1326</td>\n",
       "      <td>6</td>\n",
       "      <td>NaN</td>\n",
       "      <td>2020</td>\n",
       "      <td>9</td>\n",
       "      <td>3</td>\n",
       "      <td>3</td>\n",
       "    </tr>\n",
       "  </tbody>\n",
       "</table>\n",
       "</div>"
      ],
      "text/plain": [
       "        date  new_cases  new_deaths  new_tests  year  month  day  weekday\n",
       "2 2020-09-01        996           6    54395.0  2020      9    1        1\n",
       "3 2020-09-02        975           8        NaN  2020      9    2        2\n",
       "4 2020-09-03       1326           6        NaN  2020      9    3        3"
      ]
     },
     "execution_count": 90,
     "metadata": {},
     "output_type": "execute_result"
    }
   ],
   "source": [
    "covid_df_september = covid_df[covid_df.month == 9]\n",
    "covid_df_september"
   ]
  },
  {
   "cell_type": "code",
   "execution_count": 93,
   "id": "940b5af0",
   "metadata": {},
   "outputs": [
    {
     "name": "stdout",
     "output_type": "stream",
     "text": [
      "1444.0\n"
     ]
    }
   ],
   "source": [
    "## For example, new cases on Sundays\n",
    "print(covid_df[covid_df.weekday == 6].new_cases.mean())"
   ]
  },
  {
   "cell_type": "markdown",
   "id": "a17c63e4",
   "metadata": {},
   "source": [
    "## Grouping and aggregation"
   ]
  },
  {
   "cell_type": "markdown",
   "id": "359caf5c",
   "metadata": {},
   "source": [
    "Tenemos las siguientes opciones:\n",
    "- .sum() que me da la suma total de los datos de una columna\n",
    "- .cumsum que me da la suma cumulativa de cada columna en cada fila, es decir, me da datos para todas las rows de la suma acumulada"
   ]
  },
  {
   "cell_type": "code",
   "execution_count": 98,
   "id": "af2018b3",
   "metadata": {},
   "outputs": [
    {
     "data": {
      "text/html": [
       "<div>\n",
       "<style scoped>\n",
       "    .dataframe tbody tr th:only-of-type {\n",
       "        vertical-align: middle;\n",
       "    }\n",
       "\n",
       "    .dataframe tbody tr th {\n",
       "        vertical-align: top;\n",
       "    }\n",
       "\n",
       "    .dataframe thead th {\n",
       "        text-align: right;\n",
       "    }\n",
       "</style>\n",
       "<table border=\"1\" class=\"dataframe\">\n",
       "  <thead>\n",
       "    <tr style=\"text-align: right;\">\n",
       "      <th></th>\n",
       "      <th>new_cases</th>\n",
       "      <th>new_tests</th>\n",
       "      <th>new_deaths</th>\n",
       "    </tr>\n",
       "    <tr>\n",
       "      <th>month</th>\n",
       "      <th></th>\n",
       "      <th></th>\n",
       "      <th></th>\n",
       "    </tr>\n",
       "  </thead>\n",
       "  <tbody>\n",
       "    <tr>\n",
       "      <th>8</th>\n",
       "      <td>2809</td>\n",
       "      <td>96124.0</td>\n",
       "      <td>5</td>\n",
       "    </tr>\n",
       "    <tr>\n",
       "      <th>9</th>\n",
       "      <td>3297</td>\n",
       "      <td>54395.0</td>\n",
       "      <td>20</td>\n",
       "    </tr>\n",
       "  </tbody>\n",
       "</table>\n",
       "</div>"
      ],
      "text/plain": [
       "       new_cases  new_tests  new_deaths\n",
       "month                                  \n",
       "8           2809    96124.0           5\n",
       "9           3297    54395.0          20"
      ]
     },
     "execution_count": 98,
     "metadata": {},
     "output_type": "execute_result"
    }
   ],
   "source": [
    "covid_month_df = covid_df.groupby('month')[['new_cases', 'new_tests', 'new_deaths']]\n",
    "covid_month_df.sum()"
   ]
  },
  {
   "cell_type": "markdown",
   "id": "e13107ee",
   "metadata": {},
   "source": [
    "## Merging data from multiple sources"
   ]
  },
  {
   "cell_type": "markdown",
   "id": "5f7a65e8",
   "metadata": {},
   "source": [
    "Imagine that we want to add some information in a df from another. We would just use the function .merge\n",
    "\n",
    "The 1st thing is that we need a common column, and then\n",
    "- merged_df = covid_df.merge(location_df, on = 'location')\n",
    "\n",
    "This means the following: we are getting the information out from the dataframe *location_df*, and then we are going to match the *covid_df.location* column with the data of the same \n",
    "column in the *location_df* dataframe. \n",
    "\n",
    "For example, if we have Italy and Spain as locations in *covid_df.location*, the information of these locations will be merged from *location_df* to the aforementioned dataframe"
   ]
  },
  {
   "cell_type": "markdown",
   "id": "ed239e79",
   "metadata": {},
   "source": [
    "## Basic plotting with Pandas\n"
   ]
  },
  {
   "cell_type": "markdown",
   "id": "df6aa3b1",
   "metadata": {},
   "source": [
    "The .plot method is quite useful"
   ]
  },
  {
   "cell_type": "code",
   "execution_count": 11,
   "id": "0a4d9f5b",
   "metadata": {},
   "outputs": [
    {
     "data": {
      "text/plain": [
       "<Axes: title={'center': 'New cases'}, xlabel='date'>"
      ]
     },
     "execution_count": 11,
     "metadata": {},
     "output_type": "execute_result"
    },
    {
     "data": {
      "image/png": "[encoded data removed]",
      "text/plain": [
       "<Figure size 640x480 with 1 Axes>"
      ]
     },
     "metadata": {},
     "output_type": "display_data"
    }
   ],
   "source": [
    "import pandas as pd\n",
    "\n",
    "covid_data_dict = {\n",
    "    'date' : ['2020-08-30', '2020-08-31', '2020-09-01', '2020-09-02', '2020-09-03'],\n",
    "    'new_cases' : [1444, 1365, 996, 975, 1326],\n",
    "    'new_deaths' : [1, 4, 6, 8, 6],\n",
    "    'new_tests' : [53541, 42583, 54395, None, None]\n",
    "}\n",
    "\n",
    "covid_df = pd.DataFrame(covid_data_dict)\n",
    "covid_df.set_index('date', inplace=True)\n",
    "\n",
    "covid_df.new_cases.plot(title='New cases')\n",
    "covid_df.new_tests.plot()"
   ]
  },
  {
   "cell_type": "code",
   "execution_count": 12,
   "id": "4ab450ed",
   "metadata": {},
   "outputs": [
    {
     "data": {
      "text/plain": [
       "<Axes: xlabel='date'>"
      ]
     },
     "execution_count": 12,
     "metadata": {},
     "output_type": "execute_result"
    },
    {
     "data": {
      "image/png": "[encoded data removed]",
      "text/plain": [
       "<Figure size 640x480 with 1 Axes>"
      ]
     },
     "metadata": {},
     "output_type": "display_data"
    }
   ],
   "source": [
    "covid_df.new_deaths.plot(kind='bar')"
   ]
  },
  {
   "cell_type": "markdown",
   "id": "ddc95f92",
   "metadata": {},
   "source": [
    "# VIDEO 5: [Data analysis with python: Part 5 of 6 - Visualization with Matplotlib and Seaborn](https://www.youtube.com/live/bybjFBOBJlg?feature=shared)"
   ]
  },
  {
   "cell_type": "markdown",
   "id": "db7f83ab",
   "metadata": {},
   "source": [
    "## Line Chart"
   ]
  },
  {
   "cell_type": "code",
   "execution_count": 19,
   "id": "9091dd4b",
   "metadata": {},
   "outputs": [],
   "source": [
    "import matplotlib.pyplot as plt\n",
    "import seaborn as sns\n",
    "%matplotlib inline"
   ]
  },
  {
   "cell_type": "markdown",
   "id": "facf5c25",
   "metadata": {},
   "source": [
    "- plt.plot(x-axis, y-axis)"
   ]
  },
  {
   "cell_type": "code",
   "execution_count": 27,
   "id": "ff6d749f",
   "metadata": {},
   "outputs": [
    {
     "data": {
      "text/plain": [
       "Text(0, 0.5, 'Yield [tons per hectare]')"
      ]
     },
     "execution_count": 27,
     "metadata": {},
     "output_type": "execute_result"
    },
    {
     "data": {
      "image/png": "[encoded data removed]",
      "text/plain": [
       "<Figure size 640x480 with 1 Axes>"
      ]
     },
     "metadata": {},
     "output_type": "display_data"
    }
   ],
   "source": [
    "years = [2010, 2011, 2012, 2013, 2014, 2015]\n",
    "yield_apples = [0.895, 0.91, 0.919, 0.926, 0.929, 0.931]\n",
    "\n",
    "plt.plot(yield_apples); #The semicolon is used to not show any unintended statement\n",
    "plt.xlabel('Years')\n",
    "plt.ylabel('Yield [tons per hectare]')"
   ]
  },
  {
   "cell_type": "markdown",
   "id": "5d413a97",
   "metadata": {},
   "source": [
    "### Plotting multiple lines"
   ]
  },
  {
   "cell_type": "code",
   "execution_count": 61,
   "id": "1e2b11ee",
   "metadata": {},
   "outputs": [
    {
     "data": {
      "text/plain": [
       "<matplotlib.legend.Legend at 0x2a257de75e0>"
      ]
     },
     "execution_count": 61,
     "metadata": {},
     "output_type": "execute_result"
    },
    {
     "data": {
      "image/png": "[encoded data removed]",
      "text/plain": [
       "<Figure size 640x480 with 1 Axes>"
      ]
     },
     "metadata": {},
     "output_type": "display_data"
    }
   ],
   "source": [
    "years = range(2000, 2012)\n",
    "apples = [0.895, 0.91, 0.919, 0.929, 0.931, 0.934, 0.936, 0.937, 0.940, 0.941, 0.943, 0.944]\n",
    "oranges = [0.962, 0.941, 0.930, 0.923, 0.918, 0.908, 0.907, 0.904, 0.901, 0.900, 0.899, 0.898]\n",
    "\n",
    "plt.plot(years, apples, marker='^', c='blue', lw=1.5, mec='k')\n",
    "plt.plot(years, oranges, marker='h', c='red', lw = 1.5, mec='k')\n",
    "plt.title('Crop yield in region')\n",
    "plt.xlabel('Years')\n",
    "plt.ylabel('Yield [tons per hectare]')\n",
    "plt.legend(['apples', 'oranges'])"
   ]
  },
  {
   "cell_type": "markdown",
   "id": "3e7a1cc1",
   "metadata": {},
   "source": [
    "### Change figure size"
   ]
  },
  {
   "cell_type": "code",
   "execution_count": 64,
   "id": "70aae3b1",
   "metadata": {},
   "outputs": [
    {
     "data": {
      "text/plain": [
       "<matplotlib.legend.Legend at 0x2a257b45af0>"
      ]
     },
     "execution_count": 64,
     "metadata": {},
     "output_type": "execute_result"
    },
    {
     "data": {
      "image/png": "[encoded data removed]",
      "text/plain": [
       "<Figure size 1500x300 with 1 Axes>"
      ]
     },
     "metadata": {},
     "output_type": "display_data"
    }
   ],
   "source": [
    "years = range(2000, 2012)\n",
    "apples = [0.895, 0.91, 0.919, 0.929, 0.931, 0.934, 0.936, 0.937, 0.940, 0.941, 0.943, 0.944]\n",
    "oranges = [0.962, 0.941, 0.930, 0.923, 0.918, 0.908, 0.907, 0.904, 0.901, 0.900, 0.899, 0.898]\n",
    "\n",
    "plt.figure(figsize=(15, 3))\n",
    "\n",
    "plt.plot(years, apples, marker='^', c='blue', lw=1.5, mec='k')\n",
    "plt.plot(years, oranges, marker='h', c='red', lw = 1.5, mec='k')\n",
    "plt.title('Crop yield in region')\n",
    "plt.xlabel('Years')\n",
    "plt.ylabel('Yield [tons per hectare]')\n",
    "plt.legend(['apples', 'oranges'])"
   ]
  },
  {
   "cell_type": "markdown",
   "id": "4f62aa55",
   "metadata": {},
   "source": [
    "### Improving default styles with seaborn"
   ]
  },
  {
   "cell_type": "code",
   "execution_count": 75,
   "id": "b5c5ea20",
   "metadata": {},
   "outputs": [],
   "source": [
    "sns.set_style('darkgrid')\n",
    "\n",
    "# We have different styles like 'whitegrid'"
   ]
  },
  {
   "cell_type": "code",
   "execution_count": 77,
   "id": "8523a2bc",
   "metadata": {},
   "outputs": [
    {
     "data": {
      "text/plain": [
       "<matplotlib.legend.Legend at 0x2a2586eda60>"
      ]
     },
     "execution_count": 77,
     "metadata": {},
     "output_type": "execute_result"
    },
    {
     "data": {
      "image/png": "[encoded data removed]",
      "text/plain": [
       "<Figure size 640x480 with 1 Axes>"
      ]
     },
     "metadata": {},
     "output_type": "display_data"
    }
   ],
   "source": [
    "years = range(2000, 2012)\n",
    "apples = [0.895, 0.91, 0.919, 0.929, 0.931, 0.934, 0.936, 0.937, 0.940, 0.941, 0.943, 0.944]\n",
    "oranges = [0.962, 0.941, 0.930, 0.923, 0.918, 0.908, 0.907, 0.904, 0.901, 0.900, 0.899, 0.898]\n",
    "\n",
    "\n",
    "plt.plot(years, apples, 's-')\n",
    "plt.plot(years, oranges, 'o--')\n",
    "plt.title('Crop yield in region')\n",
    "plt.xlabel('Years')\n",
    "plt.ylabel('Yield [tons per hectare]')\n",
    "plt.legend(['apples', 'oranges'])"
   ]
  },
  {
   "cell_type": "markdown",
   "id": "cec93d20",
   "metadata": {},
   "source": [
    "## Scatter plot"
   ]
  },
  {
   "cell_type": "markdown",
   "id": "190f20a7",
   "metadata": {},
   "source": [
    "- `sns.scatterplot(x_axis, y_axis)`"
   ]
  },
  {
   "cell_type": "code",
   "execution_count": 94,
   "id": "9c659aa5",
   "metadata": {},
   "outputs": [
    {
     "name": "stdout",
     "output_type": "stream",
     "text": [
      "   sepal_length  sepal_width  petal_length  petal_width     species\n",
      "0      5.498160     2.078573      4.852190     0.224036      setosa\n",
      "1      7.802857     3.591026      1.504840     1.375251  versicolor\n",
      "2      6.927976     2.785890      1.969772     1.397524      setosa\n",
      "3      6.394634     3.271427      6.391325     1.629832      setosa\n",
      "4      4.624075     4.268916      4.638574     1.842619  versicolor\n"
     ]
    },
    {
     "data": {
      "text/plain": [
       "array(['setosa', 'versicolor', 'virginica'], dtype=object)"
      ]
     },
     "execution_count": 94,
     "metadata": {},
     "output_type": "execute_result"
    }
   ],
   "source": [
    "import pandas as pd\n",
    "import numpy as np\n",
    "import seaborn as sns\n",
    "\n",
    "# Set a seed for reproducibility\n",
    "np.random.seed(42)\n",
    "\n",
    "num_rows = 100\n",
    "\n",
    "# Generate random data for each column\n",
    "sepal_length = np.random.uniform(4.0, 8.0, num_rows)\n",
    "sepal_width = np.random.uniform(2.0, 4.5, num_rows)\n",
    "petal_length = np.random.uniform(1.0, 7.0, num_rows)\n",
    "petal_width = np.random.uniform(0.1, 2.5, num_rows)\n",
    "\n",
    "# Define possible species\n",
    "species_options = ['setosa', 'versicolor', 'virginica']\n",
    "species = np.random.choice(species_options, num_rows)\n",
    "\n",
    "# Create the DataFrame\n",
    "flowers_df = pd.DataFrame({\n",
    "    'sepal_length': sepal_length,\n",
    "    'sepal_width': sepal_width,\n",
    "    'petal_length': petal_length,\n",
    "    'petal_width': petal_width,\n",
    "    'species': species\n",
    "})\n",
    "\n",
    "# Display the first few rows of the DataFrame to verify\n",
    "print(df.head())\n",
    "flowers_df.species.unique()"
   ]
  },
  {
   "cell_type": "code",
   "execution_count": 89,
   "id": "3b49d9b2",
   "metadata": {},
   "outputs": [
    {
     "data": {
      "text/plain": [
       "<Axes: xlabel='sepal_length', ylabel='sepal_width'>"
      ]
     },
     "execution_count": 89,
     "metadata": {},
     "output_type": "execute_result"
    },
    {
     "data": {
      "image/png": "[encoded data removed]",
      "text/plain": [
       "<Figure size 640x480 with 1 Axes>"
      ]
     },
     "metadata": {},
     "output_type": "display_data"
    }
   ],
   "source": [
    "sns.scatterplot(x='sepal_length', y='sepal_width', data = flowers_df)"
   ]
  },
  {
   "cell_type": "markdown",
   "id": "62c16436",
   "metadata": {},
   "source": [
    "### Adding hues"
   ]
  },
  {
   "cell_type": "markdown",
   "id": "a7419be0",
   "metadata": {},
   "source": [
    "A hue is adding another series, with the same length as both that are already being used as x/y axis, and for each distinct value of this hue, the points will get a different color. For example, if we want to divide the plotted points according to its species, we will add species columns as hue.\n",
    "- `sns.scatterplot(x_axis, y_axis, hue = species)`"
   ]
  },
  {
   "cell_type": "code",
   "execution_count": 95,
   "id": "f446c22f",
   "metadata": {},
   "outputs": [
    {
     "data": {
      "text/plain": [
       "<Axes: xlabel='sepal_length', ylabel='sepal_width'>"
      ]
     },
     "execution_count": 95,
     "metadata": {},
     "output_type": "execute_result"
    },
    {
     "data": {
      "image/png": "[encoded data removed]",
      "text/plain": [
       "<Figure size 640x480 with 1 Axes>"
      ]
     },
     "metadata": {},
     "output_type": "display_data"
    }
   ],
   "source": [
    "sns.scatterplot(data = flowers_df, x='sepal_length', y='sepal_width', hue = 'species')"
   ]
  },
  {
   "cell_type": "markdown",
   "id": "3d966400",
   "metadata": {},
   "source": [
    "## Histogram"
   ]
  },
  {
   "cell_type": "markdown",
   "id": "072cb845",
   "metadata": {},
   "source": [
    "This helps to show how the different data is distributed along different ranges"
   ]
  },
  {
   "cell_type": "code",
   "execution_count": 98,
   "id": "35e1b225",
   "metadata": {},
   "outputs": [
    {
     "data": {
      "text/html": [
       "<div>\n",
       "<style scoped>\n",
       "    .dataframe tbody tr th:only-of-type {\n",
       "        vertical-align: middle;\n",
       "    }\n",
       "\n",
       "    .dataframe tbody tr th {\n",
       "        vertical-align: top;\n",
       "    }\n",
       "\n",
       "    .dataframe thead th {\n",
       "        text-align: right;\n",
       "    }\n",
       "</style>\n",
       "<table border=\"1\" class=\"dataframe\">\n",
       "  <thead>\n",
       "    <tr style=\"text-align: right;\">\n",
       "      <th></th>\n",
       "      <th>sepal_length</th>\n",
       "      <th>sepal_width</th>\n",
       "      <th>petal_length</th>\n",
       "      <th>petal_width</th>\n",
       "    </tr>\n",
       "  </thead>\n",
       "  <tbody>\n",
       "    <tr>\n",
       "      <th>count</th>\n",
       "      <td>100.000000</td>\n",
       "      <td>100.000000</td>\n",
       "      <td>100.000000</td>\n",
       "      <td>100.000000</td>\n",
       "    </tr>\n",
       "    <tr>\n",
       "      <th>mean</th>\n",
       "      <td>5.880723</td>\n",
       "      <td>3.244579</td>\n",
       "      <td>4.105608</td>\n",
       "      <td>1.278757</td>\n",
       "    </tr>\n",
       "    <tr>\n",
       "      <th>std</th>\n",
       "      <td>1.189958</td>\n",
       "      <td>0.732778</td>\n",
       "      <td>1.760557</td>\n",
       "      <td>0.704285</td>\n",
       "    </tr>\n",
       "    <tr>\n",
       "      <th>min</th>\n",
       "      <td>4.022088</td>\n",
       "      <td>2.017380</td>\n",
       "      <td>1.030370</td>\n",
       "      <td>0.134544</td>\n",
       "    </tr>\n",
       "    <tr>\n",
       "      <th>25%</th>\n",
       "      <td>4.772803</td>\n",
       "      <td>2.605011</td>\n",
       "      <td>2.661279</td>\n",
       "      <td>0.699076</td>\n",
       "    </tr>\n",
       "    <tr>\n",
       "      <th>50%</th>\n",
       "      <td>5.856570</td>\n",
       "      <td>3.264062</td>\n",
       "      <td>4.375330</td>\n",
       "      <td>1.323324</td>\n",
       "    </tr>\n",
       "    <tr>\n",
       "      <th>75%</th>\n",
       "      <td>6.920812</td>\n",
       "      <td>3.915459</td>\n",
       "      <td>5.514202</td>\n",
       "      <td>1.865866</td>\n",
       "    </tr>\n",
       "    <tr>\n",
       "      <th>max</th>\n",
       "      <td>7.947548</td>\n",
       "      <td>4.464126</td>\n",
       "      <td>6.940323</td>\n",
       "      <td>2.477212</td>\n",
       "    </tr>\n",
       "  </tbody>\n",
       "</table>\n",
       "</div>"
      ],
      "text/plain": [
       "       sepal_length  sepal_width  petal_length  petal_width\n",
       "count    100.000000   100.000000    100.000000   100.000000\n",
       "mean       5.880723     3.244579      4.105608     1.278757\n",
       "std        1.189958     0.732778      1.760557     0.704285\n",
       "min        4.022088     2.017380      1.030370     0.134544\n",
       "25%        4.772803     2.605011      2.661279     0.699076\n",
       "50%        5.856570     3.264062      4.375330     1.323324\n",
       "75%        6.920812     3.915459      5.514202     1.865866\n",
       "max        7.947548     4.464126      6.940323     2.477212"
      ]
     },
     "execution_count": 98,
     "metadata": {},
     "output_type": "execute_result"
    }
   ],
   "source": [
    "import pandas as pd\n",
    "import numpy as np\n",
    "import seaborn as sns\n",
    "\n",
    "# Set a seed for reproducibility\n",
    "np.random.seed(42)\n",
    "\n",
    "num_rows = 100\n",
    "\n",
    "# Generate random data for each column\n",
    "sepal_length = np.random.uniform(4.0, 8.0, num_rows)\n",
    "sepal_width = np.random.uniform(2.0, 4.5, num_rows)\n",
    "petal_length = np.random.uniform(1.0, 7.0, num_rows)\n",
    "petal_width = np.random.uniform(0.1, 2.5, num_rows)\n",
    "\n",
    "# Define possible species\n",
    "species_options = ['setosa', 'versicolor', 'virginica']\n",
    "species = np.random.choice(species_options, num_rows)\n",
    "\n",
    "# Create the DataFrame\n",
    "flowers_df = pd.DataFrame({\n",
    "    'sepal_length': sepal_length,\n",
    "    'sepal_width': sepal_width,\n",
    "    'petal_length': petal_length,\n",
    "    'petal_width': petal_width,\n",
    "    'species': species\n",
    "})\n",
    "\n",
    "flowers_df.describe()"
   ]
  },
  {
   "cell_type": "code",
   "execution_count": 100,
   "id": "b724e6b4",
   "metadata": {},
   "outputs": [
    {
     "data": {
      "image/png": "[encoded data removed]",
      "text/plain": [
       "<Figure size 640x480 with 1 Axes>"
      ]
     },
     "metadata": {},
     "output_type": "display_data"
    }
   ],
   "source": [
    "sns.set_style('darkgrid')\n",
    "\n",
    "plt.title('Distribution of sepal width')\n",
    "plt.hist(flowers_df.sepal_width);"
   ]
  },
  {
   "cell_type": "markdown",
   "id": "90f70d47",
   "metadata": {},
   "source": [
    "### Controling size and number of bins"
   ]
  },
  {
   "cell_type": "code",
   "execution_count": 101,
   "id": "7a64c3e7",
   "metadata": {},
   "outputs": [
    {
     "data": {
      "image/png": "[encoded data removed]",
      "text/plain": [
       "<Figure size 640x480 with 1 Axes>"
      ]
     },
     "metadata": {},
     "output_type": "display_data"
    }
   ],
   "source": [
    "plt.hist(flowers_df.sepal_width, bins = 5);"
   ]
  },
  {
   "cell_type": "code",
   "execution_count": 103,
   "id": "016e7aff",
   "metadata": {},
   "outputs": [
    {
     "data": {
      "image/png": "[encoded data removed]",
      "text/plain": [
       "<Figure size 640x480 with 1 Axes>"
      ]
     },
     "metadata": {},
     "output_type": "display_data"
    }
   ],
   "source": [
    "import numpy as np\n",
    "\n",
    "plt.hist(flowers_df.sepal_width, bins = np.arange(2 , 5, 0.25));"
   ]
  },
  {
   "cell_type": "code",
   "execution_count": 105,
   "id": "d3e08b09",
   "metadata": {},
   "outputs": [
    {
     "data": {
      "image/png": "[encoded data removed]",
      "text/plain": [
       "<Figure size 640x480 with 1 Axes>"
      ]
     },
     "metadata": {},
     "output_type": "display_data"
    }
   ],
   "source": [
    "plt.hist(flowers_df.sepal_width, bins = [1,3,4,4.5]);"
   ]
  },
  {
   "cell_type": "markdown",
   "id": "07e2ce03",
   "metadata": {},
   "source": [
    "### Multiple histograms"
   ]
  },
  {
   "cell_type": "code",
   "execution_count": 106,
   "id": "52b356a7",
   "metadata": {},
   "outputs": [],
   "source": [
    "setosa_df = flowers_df[flowers_df.species == 'setosa']\n",
    "versicolor_df = flowers_df[flowers_df.species == 'versicolor']\n",
    "virginica_df = flowers_df[flowers_df.species == 'virginica']"
   ]
  },
  {
   "cell_type": "code",
   "execution_count": 116,
   "id": "b8daecdb",
   "metadata": {},
   "outputs": [
    {
     "data": {
      "text/plain": [
       "<matplotlib.legend.Legend at 0x2a25b9abbb0>"
      ]
     },
     "execution_count": 116,
     "metadata": {},
     "output_type": "execute_result"
    },
    {
     "data": {
      "image/png": "[encoded data removed]",
      "text/plain": [
       "<Figure size 640x480 with 1 Axes>"
      ]
     },
     "metadata": {},
     "output_type": "display_data"
    }
   ],
   "source": [
    "plt.hist(setosa_df.sepal_width, alpha=0.4, bins=np.arange(2, 5, 0.25));\n",
    "plt.hist(versicolor_df.sepal_width, alpha=0.4,  bins = np.arange(2, 5, 0.25));\n",
    "plt.legend(['setosa', 'versicolor'])"
   ]
  },
  {
   "cell_type": "code",
   "execution_count": 122,
   "id": "708f01a1",
   "metadata": {},
   "outputs": [
    {
     "data": {
      "image/png": "[encoded data removed]",
      "text/plain": [
       "<Figure size 640x480 with 1 Axes>"
      ]
     },
     "metadata": {},
     "output_type": "display_data"
    }
   ],
   "source": [
    "plt.hist([setosa_df.sepal_width, versicolor_df.sepal_width, virginica_df.sepal_width], bins=np.arange(2,5,0.25), stacked=True);\n",
    "plt.legend(['setosa', 'versicolor', 'virginica']);"
   ]
  },
  {
   "cell_type": "code",
   "execution_count": 123,
   "id": "ae79e940",
   "metadata": {},
   "outputs": [
    {
     "data": {
      "image/png": "[encoded data removed]",
      "text/plain": [
       "<Figure size 640x480 with 1 Axes>"
      ]
     },
     "metadata": {},
     "output_type": "display_data"
    }
   ],
   "source": [
    "plt.hist([setosa_df.sepal_width, versicolor_df.sepal_width, virginica_df.sepal_width], bins=np.arange(2,5,0.25), stacked=False);\n",
    "plt.legend(['setosa', 'versicolor', 'virginica']);"
   ]
  },
  {
   "cell_type": "markdown",
   "id": "b8ad8b58",
   "metadata": {},
   "source": [
    "## Bar chart"
   ]
  },
  {
   "cell_type": "code",
   "execution_count": 125,
   "id": "96bebd56",
   "metadata": {},
   "outputs": [],
   "source": [
    "years = range(2000, 2006)\n",
    "apples = [0.35, 0.6, 0.9, 0.8, 0.65, 0.8]\n",
    "oranges = [0.4,0.8,0.9,0.7,0.6,0.8]"
   ]
  },
  {
   "cell_type": "code",
   "execution_count": 133,
   "id": "f316e306",
   "metadata": {},
   "outputs": [
    {
     "data": {
      "image/png": "[encoded data removed]",
      "text/plain": [
       "<Figure size 640x480 with 1 Axes>"
      ]
     },
     "metadata": {},
     "output_type": "display_data"
    }
   ],
   "source": [
    "plt.bar(years, apples)\n",
    "plt.bar(years, oranges, bottom=apples)\n",
    "plt.legend(['apples', 'oranges']);"
   ]
  },
  {
   "cell_type": "markdown",
   "id": "776eaaf6",
   "metadata": {},
   "source": [
    "### Bar plot with averages"
   ]
  },
  {
   "cell_type": "code",
   "execution_count": 150,
   "id": "a552e203",
   "metadata": {},
   "outputs": [
    {
     "name": "stdout",
     "output_type": "stream",
     "text": [
      "   total_bill    tip     sex smoker   day    time  size\n",
      "0       56.32  14.49    Male     No   Fri   Lunch     1\n",
      "1       52.22  14.65    Male    Yes  Thur   Lunch     4\n",
      "2       50.91  14.32    Male     No   Sun   Lunch     3\n",
      "3       51.07  14.36  Female     No   Sun   Lunch     3\n",
      "4       40.78   3.03  Female     No   Sun  Dinner     4\n",
      "\n",
      "DataFrame Info:\n",
      "<class 'pandas.core.frame.DataFrame'>\n",
      "RangeIndex: 200 entries, 0 to 199\n",
      "Data columns (total 7 columns):\n",
      " #   Column      Non-Null Count  Dtype  \n",
      "---  ------      --------------  -----  \n",
      " 0   total_bill  200 non-null    float64\n",
      " 1   tip         200 non-null    float64\n",
      " 2   sex         200 non-null    object \n",
      " 3   smoker      200 non-null    object \n",
      " 4   day         200 non-null    object \n",
      " 5   time        200 non-null    object \n",
      " 6   size        200 non-null    int32  \n",
      "dtypes: float64(2), int32(1), object(4)\n",
      "memory usage: 10.3+ KB\n",
      "\n",
      "Descriptive Statistics:\n",
      "       total_bill         tip        size\n",
      "count  200.000000  200.000000  200.000000\n",
      "mean    46.243550    9.323150    3.550000\n",
      "std      8.689736    4.586898    1.697619\n",
      "min     28.830000    1.910000    1.000000\n",
      "25%     39.595000    5.107500    2.000000\n",
      "50%     47.065000    9.545000    4.000000\n",
      "75%     53.785000   12.817500    5.000000\n",
      "max     59.720000   20.410000    6.000000\n",
      "\n",
      "Value Counts for Categorical Columns:\n",
      "sex\n",
      "Male      107\n",
      "Female     93\n",
      "Name: count, dtype: int64\n",
      "smoker\n",
      "No     134\n",
      "Yes     66\n",
      "Name: count, dtype: int64\n",
      "day\n",
      "Sat     68\n",
      "Sun     64\n",
      "Thur    30\n",
      "Fri     26\n",
      "Wed     12\n",
      "Name: count, dtype: int64\n",
      "time\n",
      "Dinner    135\n",
      "Lunch      65\n",
      "Name: count, dtype: int64\n",
      "size\n",
      "1    31\n",
      "2    36\n",
      "3    25\n",
      "4    41\n",
      "5    34\n",
      "6    33\n",
      "Name: count, dtype: int64\n"
     ]
    }
   ],
   "source": [
    "import pandas as pd\n",
    "import numpy as np\n",
    "import matplotlib.pyplot as plt\n",
    "import seaborn as sns\n",
    "\n",
    "# Set a seed for reproducibility\n",
    "np.random.seed(42)\n",
    "\n",
    "num_rows = 200\n",
    "\n",
    "# Generate 'total_bill'\n",
    "# Using a log-normal distribution to get more realistic skewed data, then scale\n",
    "total_bill = np.random.lognormal(mean=2.8, sigma=0.4, size=num_rows) * 5\n",
    "# Cap some values to make them more reasonable\n",
    "total_bill[total_bill > 60] = np.random.uniform(30, 60, sum(total_bill > 60))\n",
    "total_bill[total_bill < 5] = np.random.uniform(5, 10, sum(total_bill < 5))\n",
    "total_bill = np.round(total_bill, 2)\n",
    "\n",
    "\n",
    "# Generate 'tip'\n",
    "# Tip is usually a percentage of the bill\n",
    "tip_percentage = np.random.uniform(0.05, 0.35, num_rows) # 10% to 25%\n",
    "tip = total_bill * tip_percentage\n",
    "# Add a bit of random noise and round\n",
    "tip = np.round(tip + np.random.uniform(-0.5, 0.5, num_rows), 2)\n",
    "# Ensure tip is not negative and not more than half the bill (mostly)\n",
    "tip[tip < 0.5] = np.random.uniform(0.5, 2.0, sum(tip < 0.5))\n",
    "tip[tip > total_bill / 2] = total_bill[tip > total_bill / 2] * 0.2 # Adjust if tip is too high\n",
    "\n",
    "\n",
    "# Generate 'sex'\n",
    "sex_options = ['Male', 'Female']\n",
    "sex = np.random.choice(sex_options, num_rows)\n",
    "\n",
    "# Generate 'smoker'\n",
    "smoker_options = ['Yes', 'No']\n",
    "smoker = np.random.choice(smoker_options, num_rows, p=[0.3, 0.7]) # More non-smokers\n",
    "\n",
    "# Generate 'day'\n",
    "day_options = ['Wed', 'Thur', 'Fri', 'Sat', 'Sun']\n",
    "day = np.random.choice(day_options, num_rows, p=[0.05, 0.15, 0.15, 0.35, 0.3]) # More weekend data\n",
    "\n",
    "# Generate 'time'\n",
    "time_options = ['Lunch', 'Dinner']\n",
    "# More dinners on average, especially for Sat/Sun\n",
    "time = np.random.choice(time_options, num_rows, p=[0.35, 0.65])\n",
    "\n",
    "\n",
    "# Generate 'size'\n",
    "size = np.random.randint(1, 7, num_rows) # 1 to 6 people\n",
    "\n",
    "\n",
    "# Create the DataFrame\n",
    "tips = pd.DataFrame({\n",
    "    'total_bill': total_bill,\n",
    "    'tip': tip,\n",
    "    'sex': sex,\n",
    "    'smoker': smoker,\n",
    "    'day': day,\n",
    "    'time': time,\n",
    "    'size': size\n",
    "})\n",
    "\n",
    "# Display the first few rows of the DataFrame\n",
    "print(tips.head())\n",
    "\n",
    "# Display the information about the DataFrame to verify types and non-nulls\n",
    "print(\"\\nDataFrame Info:\")\n",
    "tips.info()\n",
    "\n",
    "# Display some descriptive statistics for numerical columns\n",
    "print(\"\\nDescriptive Statistics:\")\n",
    "print(tips.describe())\n",
    "\n",
    "# Display value counts for categorical columns\n",
    "print(\"\\nValue Counts for Categorical Columns:\")\n",
    "print(tips['sex'].value_counts())\n",
    "print(tips['smoker'].value_counts())\n",
    "print(tips['day'].value_counts())\n",
    "print(tips['time'].value_counts())\n",
    "print(tips['size'].value_counts().sort_index())"
   ]
  },
  {
   "cell_type": "markdown",
   "id": "520341f6",
   "metadata": {},
   "source": [
    "**Q: What does the average bill look like on each day?**"
   ]
  },
  {
   "cell_type": "code",
   "execution_count": 159,
   "id": "b07bb0a6",
   "metadata": {},
   "outputs": [
    {
     "name": "stdout",
     "output_type": "stream",
     "text": [
      "day\n",
      "Fri     45.631538\n",
      "Sat     45.529559\n",
      "Sun     46.623438\n",
      "Thur    47.369667\n",
      "Wed     46.774167\n",
      "Name: total_bill, dtype: float64\n"
     ]
    },
    {
     "data": {
      "image/png": "[encoded data removed]",
      "text/plain": [
       "<Figure size 640x480 with 1 Axes>"
      ]
     },
     "metadata": {},
     "output_type": "display_data"
    }
   ],
   "source": [
    "daily_bill = tips.groupby('day').total_bill.mean()\n",
    "print(daily_bill)\n",
    "plt.bar(daily_bill.index, daily_bill);"
   ]
  },
  {
   "cell_type": "markdown",
   "id": "cbdc6e10",
   "metadata": {},
   "source": [
    "We can do the same operation by just using `sns.barplot()`"
   ]
  },
  {
   "cell_type": "code",
   "execution_count": 157,
   "id": "fcfd87de",
   "metadata": {},
   "outputs": [
    {
     "data": {
      "image/png": "[encoded data removed]",
      "text/plain": [
       "<Figure size 640x480 with 1 Axes>"
      ]
     },
     "metadata": {},
     "output_type": "display_data"
    }
   ],
   "source": [
    "sns.barplot(data=tips, x='day', y='total_bill', hue='smoker');"
   ]
  },
  {
   "cell_type": "markdown",
   "id": "dd5f226e",
   "metadata": {},
   "source": [
    "The plot can be put horizontally just by changing x,y values, because the plot detects the qualitative variable (days) as independent variable"
   ]
  },
  {
   "cell_type": "code",
   "execution_count": 160,
   "id": "9f29da2a",
   "metadata": {},
   "outputs": [
    {
     "data": {
      "image/png": "[encoded data removed]",
      "text/plain": [
       "<Figure size 640x480 with 1 Axes>"
      ]
     },
     "metadata": {},
     "output_type": "display_data"
    }
   ],
   "source": [
    "sns.barplot(data=tips, x='total_bill', y='day', hue='smoker');"
   ]
  },
  {
   "cell_type": "markdown",
   "id": "5e28430e",
   "metadata": {},
   "source": [
    "## Heatmap"
   ]
  },
  {
   "cell_type": "code",
   "execution_count": 171,
   "id": "718e7a66",
   "metadata": {},
   "outputs": [
    {
     "name": "stdout",
     "output_type": "stream",
     "text": [
      "First 15 rows of the 'flights' DataFrame with month names:\n",
      "    year      month  passengers\n",
      "0   2018    January        7650\n",
      "1   2018   February        8430\n",
      "2   2018      March       10323\n",
      "3   2018      April       12261\n",
      "4   2018        May       12480\n",
      "5   2018       June       12882\n",
      "6   2018       July       13387\n",
      "7   2018     August       11883\n",
      "8   2018  September        9765\n",
      "9   2018    October        8771\n",
      "10  2018   November        7170\n",
      "11  2018   December        6767\n",
      "12  2019    January        7893\n",
      "13  2019   February        7968\n",
      "14  2019      March        9637\n",
      "\n",
      "Last 5 rows of the 'flights' DataFrame:\n",
      "    year      month  passengers\n",
      "67  2023     August       15179\n",
      "68  2023  September       12943\n",
      "69  2023    October       10525\n",
      "70  2023   November        9627\n",
      "71  2023   December        9702\n",
      "\n",
      "DataFrame Info:\n",
      "<class 'pandas.core.frame.DataFrame'>\n",
      "RangeIndex: 72 entries, 0 to 71\n",
      "Data columns (total 3 columns):\n",
      " #   Column      Non-Null Count  Dtype \n",
      "---  ------      --------------  ----- \n",
      " 0   year        72 non-null     int64 \n",
      " 1   month       72 non-null     object\n",
      " 2   passengers  72 non-null     int64 \n",
      "dtypes: int64(2), object(1)\n",
      "memory usage: 1.8+ KB\n",
      "\n",
      "Value Counts for 'month':\n",
      "month\n",
      "April        6\n",
      "August       6\n",
      "December     6\n",
      "February     6\n",
      "January      6\n",
      "July         6\n",
      "June         6\n",
      "March        6\n",
      "May          6\n",
      "November     6\n",
      "October      6\n",
      "September    6\n",
      "Name: count, dtype: int64\n"
     ]
    }
   ],
   "source": [
    "import pandas as pd\n",
    "import numpy as np\n",
    "import calendar # Import the calendar module\n",
    "import matplotlib.pyplot as plt\n",
    "import seaborn as sns\n",
    "\n",
    "# Set a seed for reproducibility\n",
    "np.random.seed(42)\n",
    "\n",
    "# Define the range of years\n",
    "years = np.arange(2018, 2024) # Data from 2018 to 2023\n",
    "\n",
    "# Create lists to hold the data\n",
    "all_months_names = [] # Changed to hold names\n",
    "all_years = []\n",
    "all_passengers = []\n",
    "\n",
    "# Generate data for each year and month\n",
    "base_passengers = 10000 # Starting base passenger count\n",
    "growth_per_year = 1.05  # 5% growth per year\n",
    "\n",
    "for year_val in years:\n",
    "    for month_num in range(1, 13): # month_num will be 1 to 12\n",
    "        all_years.append(year_val)\n",
    "        # Convert month number to month name\n",
    "        all_months_names.append(calendar.month_name[month_num])\n",
    "\n",
    "        # Base passenger count for the current year, adjusted for growth\n",
    "        # and seasonal factor (more in summer months like July/August)\n",
    "        # Using a sine wave for seasonality: peaks around July (month 7)\n",
    "        seasonal_factor = 1 + 0.3 * np.sin((month_num - 3) * (2 * np.pi / 12)) # Peak around month 6-7\n",
    "\n",
    "        # Trend over years + seasonality + some random noise\n",
    "        passengers_for_month = (\n",
    "            base_passengers * ((growth_per_year) ** (year_val - years[0])) * seasonal_factor\n",
    "            + np.random.normal(0, 500) # Add some random fluctuation\n",
    "        )\n",
    "        # Ensure passenger count is positive and round to nearest integer\n",
    "        all_passengers.append(max(0, int(passengers_for_month)))\n",
    "\n",
    "# Create the DataFrame\n",
    "flights = pd.DataFrame({\n",
    "    'year': all_years,\n",
    "    'month': all_months_names, # Use month names here\n",
    "    'passengers': all_passengers\n",
    "})\n",
    "\n",
    "# Display the first few rows to verify month names\n",
    "print(\"First 15 rows of the 'flights' DataFrame with month names:\")\n",
    "print(flights.head(15))\n",
    "\n",
    "# Display the last few rows\n",
    "print(\"\\nLast 5 rows of the 'flights' DataFrame:\")\n",
    "print(flights.tail())\n",
    "\n",
    "# Display general information about the DataFrame\n",
    "print(\"\\nDataFrame Info:\")\n",
    "flights.info()\n",
    "\n",
    "# Display value counts for months to ensure all months are present\n",
    "print(\"\\nValue Counts for 'month':\")\n",
    "print(flights['month'].value_counts().sort_index())"
   ]
  },
  {
   "cell_type": "markdown",
   "id": "38576370",
   "metadata": {},
   "source": [
    "First we need to get the values with this format"
   ]
  },
  {
   "cell_type": "code",
   "execution_count": 174,
   "id": "d9c9f3df",
   "metadata": {},
   "outputs": [
    {
     "data": {
      "text/html": [
       "<div>\n",
       "<style scoped>\n",
       "    .dataframe tbody tr th:only-of-type {\n",
       "        vertical-align: middle;\n",
       "    }\n",
       "\n",
       "    .dataframe tbody tr th {\n",
       "        vertical-align: top;\n",
       "    }\n",
       "\n",
       "    .dataframe thead th {\n",
       "        text-align: right;\n",
       "    }\n",
       "</style>\n",
       "<table border=\"1\" class=\"dataframe\">\n",
       "  <thead>\n",
       "    <tr style=\"text-align: right;\">\n",
       "      <th>year</th>\n",
       "      <th>2018</th>\n",
       "      <th>2019</th>\n",
       "      <th>2020</th>\n",
       "      <th>2021</th>\n",
       "      <th>2022</th>\n",
       "      <th>2023</th>\n",
       "    </tr>\n",
       "    <tr>\n",
       "      <th>month</th>\n",
       "      <th></th>\n",
       "      <th></th>\n",
       "      <th></th>\n",
       "      <th></th>\n",
       "      <th></th>\n",
       "      <th></th>\n",
       "    </tr>\n",
       "  </thead>\n",
       "  <tbody>\n",
       "    <tr>\n",
       "      <th>January</th>\n",
       "      <td>7650</td>\n",
       "      <td>7893</td>\n",
       "      <td>7888</td>\n",
       "      <td>8673</td>\n",
       "      <td>9168</td>\n",
       "      <td>9207</td>\n",
       "    </tr>\n",
       "    <tr>\n",
       "      <th>February</th>\n",
       "      <td>8430</td>\n",
       "      <td>7968</td>\n",
       "      <td>9426</td>\n",
       "      <td>8859</td>\n",
       "      <td>9450</td>\n",
       "      <td>10755</td>\n",
       "    </tr>\n",
       "    <tr>\n",
       "      <th>March</th>\n",
       "      <td>10323</td>\n",
       "      <td>9637</td>\n",
       "      <td>10449</td>\n",
       "      <td>10912</td>\n",
       "      <td>12317</td>\n",
       "      <td>12209</td>\n",
       "    </tr>\n",
       "    <tr>\n",
       "      <th>April</th>\n",
       "      <td>12261</td>\n",
       "      <td>11793</td>\n",
       "      <td>12866</td>\n",
       "      <td>13411</td>\n",
       "      <td>13785</td>\n",
       "      <td>14079</td>\n",
       "    </tr>\n",
       "    <tr>\n",
       "      <th>May</th>\n",
       "      <td>12480</td>\n",
       "      <td>12721</td>\n",
       "      <td>13589</td>\n",
       "      <td>14953</td>\n",
       "      <td>14974</td>\n",
       "      <td>16484</td>\n",
       "    </tr>\n",
       "    <tr>\n",
       "      <th>June</th>\n",
       "      <td>12882</td>\n",
       "      <td>13807</td>\n",
       "      <td>14186</td>\n",
       "      <td>15134</td>\n",
       "      <td>16107</td>\n",
       "      <td>17269</td>\n",
       "    </tr>\n",
       "    <tr>\n",
       "      <th>July</th>\n",
       "      <td>13387</td>\n",
       "      <td>12773</td>\n",
       "      <td>13588</td>\n",
       "      <td>14526</td>\n",
       "      <td>15828</td>\n",
       "      <td>16042</td>\n",
       "    </tr>\n",
       "    <tr>\n",
       "      <th>August</th>\n",
       "      <td>11883</td>\n",
       "      <td>11368</td>\n",
       "      <td>13604</td>\n",
       "      <td>13162</td>\n",
       "      <td>14443</td>\n",
       "      <td>15179</td>\n",
       "    </tr>\n",
       "    <tr>\n",
       "      <th>September</th>\n",
       "      <td>9765</td>\n",
       "      <td>11232</td>\n",
       "      <td>11018</td>\n",
       "      <td>10836</td>\n",
       "      <td>11735</td>\n",
       "      <td>12943</td>\n",
       "    </tr>\n",
       "    <tr>\n",
       "      <th>October</th>\n",
       "      <td>8771</td>\n",
       "      <td>8812</td>\n",
       "      <td>8842</td>\n",
       "      <td>9479</td>\n",
       "      <td>10177</td>\n",
       "      <td>10525</td>\n",
       "    </tr>\n",
       "    <tr>\n",
       "      <th>November</th>\n",
       "      <td>7170</td>\n",
       "      <td>7805</td>\n",
       "      <td>8571</td>\n",
       "      <td>8338</td>\n",
       "      <td>9162</td>\n",
       "      <td>9627</td>\n",
       "    </tr>\n",
       "    <tr>\n",
       "      <th>December</th>\n",
       "      <td>6767</td>\n",
       "      <td>6637</td>\n",
       "      <td>7107</td>\n",
       "      <td>8631</td>\n",
       "      <td>8996</td>\n",
       "      <td>9702</td>\n",
       "    </tr>\n",
       "  </tbody>\n",
       "</table>\n",
       "</div>"
      ],
      "text/plain": [
       "year        2018   2019   2020   2021   2022   2023\n",
       "month                                              \n",
       "January     7650   7893   7888   8673   9168   9207\n",
       "February    8430   7968   9426   8859   9450  10755\n",
       "March      10323   9637  10449  10912  12317  12209\n",
       "April      12261  11793  12866  13411  13785  14079\n",
       "May        12480  12721  13589  14953  14974  16484\n",
       "June       12882  13807  14186  15134  16107  17269\n",
       "July       13387  12773  13588  14526  15828  16042\n",
       "August     11883  11368  13604  13162  14443  15179\n",
       "September   9765  11232  11018  10836  11735  12943\n",
       "October     8771   8812   8842   9479  10177  10525\n",
       "November    7170   7805   8571   8338   9162   9627\n",
       "December    6767   6637   7107   8631   8996   9702"
      ]
     },
     "execution_count": 174,
     "metadata": {},
     "output_type": "execute_result"
    }
   ],
   "source": [
    "flights_df = flights.pivot(index='month', columns='year', values='passengers')\n",
    "\n",
    "month_order = list(calendar.month_name)[1:]\n",
    "# --- 4. Reindex the flights_df to sort by the defined month_order ---\n",
    "flights_df = flights_df.reindex(month_order)\n",
    "\n",
    "flights_df"
   ]
  },
  {
   "cell_type": "code",
   "execution_count": 185,
   "id": "7c76141c",
   "metadata": {},
   "outputs": [
    {
     "data": {
      "image/png": "[encoded data removed]",
      "text/plain": [
       "<Figure size 640x480 with 2 Axes>"
      ]
     },
     "metadata": {},
     "output_type": "display_data"
    }
   ],
   "source": [
    "sns.heatmap(flights_df, fmt='d', annot=True, cmap='Blues');"
   ]
  }
 ],
 "metadata": {
  "kernelspec": {
   "display_name": "envJON",
   "language": "python",
   "name": "python3"
  },
  "language_info": {
   "codemirror_mode": {
    "name": "ipython",
    "version": 3
   },
   "file_extension": ".py",
   "mimetype": "text/x-python",
   "name": "python",
   "nbconvert_exporter": "python",
   "pygments_lexer": "ipython3",
   "version": "3.9.21"
  }
 },
 "nbformat": 4,
 "nbformat_minor": 5
}
